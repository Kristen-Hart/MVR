{
 "cells": [
  {
   "cell_type": "markdown",
   "metadata": {},
   "source": [
    "# MVR datasets merge"
   ]
  },
  {
   "cell_type": "markdown",
   "metadata": {},
   "source": [
    "```markdown\n",
    "Inputs: \n",
    "    - cleaned_countyoutflow.csv: outlfow migration data, \n",
    "    - zillow_yearly_clean.csv: housing data,\n",
    "    - health_data_clean.csv: health data\n",
    "\n",
    "outputs: \n",
    "    - merged dataset of shape (3209, 50)"
   ]
  },
  {
   "cell_type": "code",
   "execution_count": 1,
   "metadata": {},
   "outputs": [],
   "source": [
    "import pandas as pd"
   ]
  },
  {
   "cell_type": "markdown",
   "metadata": {},
   "source": [
    "## Part 1: Migration data"
   ]
  },
  {
   "cell_type": "code",
   "execution_count": 2,
   "metadata": {},
   "outputs": [],
   "source": [
    "\n",
    "outflow = pd.read_csv('/Users/judithyemeli/Documents/CSE_6242/Project/MVR/Network_graph_analysis/cleaned_countyoutflow.csv')"
   ]
  },
  {
   "cell_type": "code",
   "execution_count": 3,
   "metadata": {},
   "outputs": [
    {
     "data": {
      "text/html": [
       "<div>\n",
       "<style scoped>\n",
       "    .dataframe tbody tr th:only-of-type {\n",
       "        vertical-align: middle;\n",
       "    }\n",
       "\n",
       "    .dataframe tbody tr th {\n",
       "        vertical-align: top;\n",
       "    }\n",
       "\n",
       "    .dataframe thead th {\n",
       "        text-align: right;\n",
       "    }\n",
       "</style>\n",
       "<table border=\"1\" class=\"dataframe\">\n",
       "  <thead>\n",
       "    <tr style=\"text-align: right;\">\n",
       "      <th></th>\n",
       "      <th>year</th>\n",
       "      <th>origin_state_fips</th>\n",
       "      <th>origin_county_fips</th>\n",
       "      <th>destination_state_fips</th>\n",
       "      <th>destination_county_fips</th>\n",
       "      <th>y1fips</th>\n",
       "      <th>y2fips</th>\n",
       "      <th>y2_state</th>\n",
       "      <th>y2_countyname</th>\n",
       "      <th>num_returns</th>\n",
       "      <th>num_individuals</th>\n",
       "      <th>adjusted_gross_income</th>\n",
       "    </tr>\n",
       "  </thead>\n",
       "  <tbody>\n",
       "    <tr>\n",
       "      <th>0</th>\n",
       "      <td>16-17</td>\n",
       "      <td>1</td>\n",
       "      <td>1</td>\n",
       "      <td>1</td>\n",
       "      <td>1</td>\n",
       "      <td>1001</td>\n",
       "      <td>1001</td>\n",
       "      <td>AL</td>\n",
       "      <td>Autauga County Non-migrants</td>\n",
       "      <td>17484</td>\n",
       "      <td>39711</td>\n",
       "      <td>1106647</td>\n",
       "    </tr>\n",
       "    <tr>\n",
       "      <th>1</th>\n",
       "      <td>16-17</td>\n",
       "      <td>1</td>\n",
       "      <td>21</td>\n",
       "      <td>1</td>\n",
       "      <td>1</td>\n",
       "      <td>1021</td>\n",
       "      <td>1001</td>\n",
       "      <td>AL</td>\n",
       "      <td>Autauga County</td>\n",
       "      <td>83</td>\n",
       "      <td>220</td>\n",
       "      <td>3006</td>\n",
       "    </tr>\n",
       "    <tr>\n",
       "      <th>2</th>\n",
       "      <td>16-17</td>\n",
       "      <td>1</td>\n",
       "      <td>47</td>\n",
       "      <td>1</td>\n",
       "      <td>1</td>\n",
       "      <td>1047</td>\n",
       "      <td>1001</td>\n",
       "      <td>AL</td>\n",
       "      <td>Autauga County</td>\n",
       "      <td>82</td>\n",
       "      <td>195</td>\n",
       "      <td>2917</td>\n",
       "    </tr>\n",
       "  </tbody>\n",
       "</table>\n",
       "</div>"
      ],
      "text/plain": [
       "    year  origin_state_fips  origin_county_fips  destination_state_fips  \\\n",
       "0  16-17                  1                   1                       1   \n",
       "1  16-17                  1                  21                       1   \n",
       "2  16-17                  1                  47                       1   \n",
       "\n",
       "   destination_county_fips  y1fips  y2fips y2_state  \\\n",
       "0                        1    1001    1001       AL   \n",
       "1                        1    1021    1001       AL   \n",
       "2                        1    1047    1001       AL   \n",
       "\n",
       "                 y2_countyname  num_returns  num_individuals  \\\n",
       "0  Autauga County Non-migrants        17484            39711   \n",
       "1               Autauga County           83              220   \n",
       "2               Autauga County           82              195   \n",
       "\n",
       "   adjusted_gross_income  \n",
       "0                1106647  \n",
       "1                   3006  \n",
       "2                   2917  "
      ]
     },
     "execution_count": 3,
     "metadata": {},
     "output_type": "execute_result"
    }
   ],
   "source": [
    "outflow.head(3)"
   ]
  },
  {
   "cell_type": "markdown",
   "metadata": {},
   "source": [
    "``` markdown\n",
    "From both datasets, the columns carrying information are returns, individuas and gross income.\n",
    "Renaming those attributes is required to ensure they are distict after merging."
   ]
  },
  {
   "cell_type": "code",
   "execution_count": 4,
   "metadata": {},
   "outputs": [],
   "source": [
    "# rename the key attributes \n",
    "outflow_attributes_dict = {'num_returns': 'out_return', 'num_individuals': 'out_individuals', 'adjusted_gross_income': 'out_gross_income'}"
   ]
  },
  {
   "cell_type": "code",
   "execution_count": 5,
   "metadata": {},
   "outputs": [],
   "source": [
    "outflow.rename(columns=outflow_attributes_dict, inplace=True)"
   ]
  },
  {
   "cell_type": "markdown",
   "metadata": {},
   "source": [
    "``` markdown\n",
    "Grouping each dataset to have a single line for each county. The aggregation method is sum across the ckey attributes idenfified earlier."
   ]
  },
  {
   "cell_type": "code",
   "execution_count": 6,
   "metadata": {},
   "outputs": [
    {
     "data": {
      "text/html": [
       "<div>\n",
       "<style scoped>\n",
       "    .dataframe tbody tr th:only-of-type {\n",
       "        vertical-align: middle;\n",
       "    }\n",
       "\n",
       "    .dataframe tbody tr th {\n",
       "        vertical-align: top;\n",
       "    }\n",
       "\n",
       "    .dataframe thead th {\n",
       "        text-align: right;\n",
       "    }\n",
       "</style>\n",
       "<table border=\"1\" class=\"dataframe\">\n",
       "  <thead>\n",
       "    <tr style=\"text-align: right;\">\n",
       "      <th></th>\n",
       "      <th>y2_state</th>\n",
       "      <th>destination_county_fips</th>\n",
       "      <th>out_return</th>\n",
       "      <th>out_individuals</th>\n",
       "      <th>out_gross_income</th>\n",
       "    </tr>\n",
       "  </thead>\n",
       "  <tbody>\n",
       "    <tr>\n",
       "      <th>0</th>\n",
       "      <td>AK</td>\n",
       "      <td>0</td>\n",
       "      <td>364248</td>\n",
       "      <td>733000</td>\n",
       "      <td>22577044</td>\n",
       "    </tr>\n",
       "    <tr>\n",
       "      <th>1</th>\n",
       "      <td>AK</td>\n",
       "      <td>1</td>\n",
       "      <td>48217</td>\n",
       "      <td>91547</td>\n",
       "      <td>2853137</td>\n",
       "    </tr>\n",
       "    <tr>\n",
       "      <th>2</th>\n",
       "      <td>AK</td>\n",
       "      <td>3</td>\n",
       "      <td>131234</td>\n",
       "      <td>269101</td>\n",
       "      <td>8294827</td>\n",
       "    </tr>\n",
       "  </tbody>\n",
       "</table>\n",
       "</div>"
      ],
      "text/plain": [
       "  y2_state  destination_county_fips  out_return  out_individuals  \\\n",
       "0       AK                        0      364248           733000   \n",
       "1       AK                        1       48217            91547   \n",
       "2       AK                        3      131234           269101   \n",
       "\n",
       "   out_gross_income  \n",
       "0          22577044  \n",
       "1           2853137  \n",
       "2           8294827  "
      ]
     },
     "execution_count": 6,
     "metadata": {},
     "output_type": "execute_result"
    }
   ],
   "source": [
    "outflow= outflow.groupby(by= ['y2_state','destination_county_fips'])[['out_return', 'out_individuals', 'out_gross_income']].sum().reset_index()\n",
    "outflow.head(3)"
   ]
  },
  {
   "cell_type": "code",
   "execution_count": 7,
   "metadata": {},
   "outputs": [
    {
     "name": "stdout",
     "output_type": "stream",
     "text": [
      "lenght of grouped outflow:  3209\n"
     ]
    }
   ],
   "source": [
    "# print(f\"lenght of grouped inflow: \",len(grouped_inflow))\n",
    "print(f\"lenght of grouped outflow: \",len(outflow))"
   ]
  },
  {
   "cell_type": "markdown",
   "metadata": {},
   "source": [
    "## Part 2: House pricing"
   ]
  },
  {
   "cell_type": "markdown",
   "metadata": {},
   "source": [
    "``` markdown\n",
    "- Clean up the county idenfiers\n",
    "- Calcule the net change by county between  2000 and 2024 (net_housing_price_change)\n",
    "- Extract the current house price as 2024 (2024_house_price)\n",
    "- Merge with migration data"
   ]
  },
  {
   "cell_type": "code",
   "execution_count": 8,
   "metadata": {},
   "outputs": [
    {
     "data": {
      "text/html": [
       "<div>\n",
       "<style scoped>\n",
       "    .dataframe tbody tr th:only-of-type {\n",
       "        vertical-align: middle;\n",
       "    }\n",
       "\n",
       "    .dataframe tbody tr th {\n",
       "        vertical-align: top;\n",
       "    }\n",
       "\n",
       "    .dataframe thead th {\n",
       "        text-align: right;\n",
       "    }\n",
       "</style>\n",
       "<table border=\"1\" class=\"dataframe\">\n",
       "  <thead>\n",
       "    <tr style=\"text-align: right;\">\n",
       "      <th></th>\n",
       "      <th>FIPS</th>\n",
       "      <th>RegionName</th>\n",
       "      <th>State</th>\n",
       "      <th>FIPS.1</th>\n",
       "      <th>2000</th>\n",
       "      <th>2001</th>\n",
       "      <th>2002</th>\n",
       "      <th>2003</th>\n",
       "      <th>2004</th>\n",
       "      <th>2005</th>\n",
       "      <th>...</th>\n",
       "      <th>2015</th>\n",
       "      <th>2016</th>\n",
       "      <th>2017</th>\n",
       "      <th>2018</th>\n",
       "      <th>2019</th>\n",
       "      <th>2020</th>\n",
       "      <th>2021</th>\n",
       "      <th>2022</th>\n",
       "      <th>2023</th>\n",
       "      <th>2024</th>\n",
       "    </tr>\n",
       "  </thead>\n",
       "  <tbody>\n",
       "    <tr>\n",
       "      <th>0</th>\n",
       "      <td>2020</td>\n",
       "      <td>Anchorage Borough</td>\n",
       "      <td>AK</td>\n",
       "      <td>2020</td>\n",
       "      <td>146144.3161</td>\n",
       "      <td>169973.1478</td>\n",
       "      <td>186475.8294</td>\n",
       "      <td>195969.8382</td>\n",
       "      <td>209724.6331</td>\n",
       "      <td>229868.8594</td>\n",
       "      <td>...</td>\n",
       "      <td>304919.1673</td>\n",
       "      <td>311721.6694</td>\n",
       "      <td>310289.3725</td>\n",
       "      <td>312758.8579</td>\n",
       "      <td>330962.7465</td>\n",
       "      <td>338964.0436</td>\n",
       "      <td>344423.7324</td>\n",
       "      <td>365491.1856</td>\n",
       "      <td>377498.0278</td>\n",
       "      <td>384018.9248</td>\n",
       "    </tr>\n",
       "    <tr>\n",
       "      <th>1</th>\n",
       "      <td>2090</td>\n",
       "      <td>Fairbanks North Star Borough</td>\n",
       "      <td>AK</td>\n",
       "      <td>2090</td>\n",
       "      <td>NaN</td>\n",
       "      <td>NaN</td>\n",
       "      <td>NaN</td>\n",
       "      <td>NaN</td>\n",
       "      <td>NaN</td>\n",
       "      <td>188322.2179</td>\n",
       "      <td>...</td>\n",
       "      <td>225121.4489</td>\n",
       "      <td>233876.6726</td>\n",
       "      <td>243537.0955</td>\n",
       "      <td>252751.3460</td>\n",
       "      <td>265862.9022</td>\n",
       "      <td>277602.7961</td>\n",
       "      <td>285834.8267</td>\n",
       "      <td>300548.1123</td>\n",
       "      <td>296752.7637</td>\n",
       "      <td>301036.6606</td>\n",
       "    </tr>\n",
       "    <tr>\n",
       "      <th>2</th>\n",
       "      <td>2100</td>\n",
       "      <td>Haines Borough</td>\n",
       "      <td>AK</td>\n",
       "      <td>2100</td>\n",
       "      <td>NaN</td>\n",
       "      <td>NaN</td>\n",
       "      <td>NaN</td>\n",
       "      <td>NaN</td>\n",
       "      <td>NaN</td>\n",
       "      <td>NaN</td>\n",
       "      <td>...</td>\n",
       "      <td>NaN</td>\n",
       "      <td>NaN</td>\n",
       "      <td>NaN</td>\n",
       "      <td>NaN</td>\n",
       "      <td>NaN</td>\n",
       "      <td>NaN</td>\n",
       "      <td>284891.8249</td>\n",
       "      <td>315908.7940</td>\n",
       "      <td>298008.7765</td>\n",
       "      <td>294193.3742</td>\n",
       "    </tr>\n",
       "  </tbody>\n",
       "</table>\n",
       "<p>3 rows × 29 columns</p>\n",
       "</div>"
      ],
      "text/plain": [
       "   FIPS                    RegionName State  FIPS.1         2000         2001  \\\n",
       "0  2020             Anchorage Borough    AK    2020  146144.3161  169973.1478   \n",
       "1  2090  Fairbanks North Star Borough    AK    2090          NaN          NaN   \n",
       "2  2100                Haines Borough    AK    2100          NaN          NaN   \n",
       "\n",
       "          2002         2003         2004         2005  ...         2015  \\\n",
       "0  186475.8294  195969.8382  209724.6331  229868.8594  ...  304919.1673   \n",
       "1          NaN          NaN          NaN  188322.2179  ...  225121.4489   \n",
       "2          NaN          NaN          NaN          NaN  ...          NaN   \n",
       "\n",
       "          2016         2017         2018         2019         2020  \\\n",
       "0  311721.6694  310289.3725  312758.8579  330962.7465  338964.0436   \n",
       "1  233876.6726  243537.0955  252751.3460  265862.9022  277602.7961   \n",
       "2          NaN          NaN          NaN          NaN          NaN   \n",
       "\n",
       "          2021         2022         2023         2024  \n",
       "0  344423.7324  365491.1856  377498.0278  384018.9248  \n",
       "1  285834.8267  300548.1123  296752.7637  301036.6606  \n",
       "2  284891.8249  315908.7940  298008.7765  294193.3742  \n",
       "\n",
       "[3 rows x 29 columns]"
      ]
     },
     "execution_count": 8,
     "metadata": {},
     "output_type": "execute_result"
    }
   ],
   "source": [
    "house_pricing = pd.read_csv('/Users/judithyemeli/Documents/CSE_6242/Project/MVR/Network_graph_analysis/Zillow_Data_Yearly_FIPS.csv')\n",
    "house_pricing.head(3)"
   ]
  },
  {
   "cell_type": "markdown",
   "metadata": {},
   "source": [
    "Use the raw dataset that has all the counties"
   ]
  },
  {
   "cell_type": "code",
   "execution_count": 9,
   "metadata": {},
   "outputs": [],
   "source": [
    "# t = pd.read_csv('/Users/judithyemeli/Documents/CSE_6242/Project/MVR/Network_graph_analysis/zillow_yearly_clean.csv')\n",
    "# len(t)"
   ]
  },
  {
   "cell_type": "code",
   "execution_count": 10,
   "metadata": {},
   "outputs": [
    {
     "data": {
      "text/plain": [
       "3074"
      ]
     },
     "execution_count": 10,
     "metadata": {},
     "output_type": "execute_result"
    }
   ],
   "source": [
    "len(house_pricing)"
   ]
  },
  {
   "cell_type": "code",
   "execution_count": 11,
   "metadata": {},
   "outputs": [
    {
     "data": {
      "text/plain": [
       "FIPS             0\n",
       "RegionName       0\n",
       "State            0\n",
       "FIPS.1           0\n",
       "2000          2020\n",
       "2001          1979\n",
       "2002          1938\n",
       "2003          1880\n",
       "2004          1837\n",
       "2005          1788\n",
       "2006          1758\n",
       "2007          1704\n",
       "2008          1634\n",
       "2009          1059\n",
       "2010           985\n",
       "2011           921\n",
       "2012           647\n",
       "2013           597\n",
       "2014           560\n",
       "2015           529\n",
       "2016           101\n",
       "2017            94\n",
       "2018            86\n",
       "2019            68\n",
       "2020            63\n",
       "2021            51\n",
       "2022            12\n",
       "2023             2\n",
       "2024             0\n",
       "dtype: int64"
      ]
     },
     "execution_count": 11,
     "metadata": {},
     "output_type": "execute_result"
    }
   ],
   "source": [
    "house_pricing.isna().sum()"
   ]
  },
  {
   "cell_type": "code",
   "execution_count": 12,
   "metadata": {},
   "outputs": [],
   "source": [
    "cols_to_fillna = ['2000','2001','2002','2003','2004','2005','2006','2007','2008','2009','2010','2011','2012','2013','2014','2015','2016','2017','2018','2019','2020','2021','2022','2023','2024'] \n",
    "n = int(len(cols_to_fillna)/2) # first half of the columns are years_min and the second half are years_max\n",
    "cols_years_min = cols_to_fillna[:n]\n",
    "cols_years_max = cols_to_fillna[n:]\n"
   ]
  },
  {
   "cell_type": "code",
   "execution_count": 13,
   "metadata": {},
   "outputs": [
    {
     "data": {
      "text/plain": [
       "FIPS          0\n",
       "RegionName    0\n",
       "State         0\n",
       "FIPS.1        0\n",
       "2000          0\n",
       "2001          0\n",
       "2002          0\n",
       "2003          0\n",
       "2004          0\n",
       "2005          0\n",
       "2006          0\n",
       "2007          0\n",
       "2008          0\n",
       "2009          0\n",
       "2010          0\n",
       "2011          0\n",
       "2012          0\n",
       "2013          0\n",
       "2014          0\n",
       "2015          0\n",
       "2016          0\n",
       "2017          0\n",
       "2018          0\n",
       "2019          0\n",
       "2020          0\n",
       "2021          0\n",
       "2022          0\n",
       "2023          0\n",
       "2024          0\n",
       "dtype: int64"
      ]
     },
     "execution_count": 13,
     "metadata": {},
     "output_type": "execute_result"
    }
   ],
   "source": [
    "house_pricing[cols_to_fillna] = house_pricing[cols_to_fillna].fillna(house_pricing[cols_to_fillna].mean())  \n",
    "house_pricing.isna().sum()"
   ]
  },
  {
   "cell_type": "code",
   "execution_count": 14,
   "metadata": {},
   "outputs": [],
   "source": [
    "# defining a function to format the house_pricing data to be the same as the merged migration \n",
    "def county_code_reformat(value):\n",
    "        # ensure the value is a string\n",
    "        num_str = str(value)\n",
    "        num_str = num_str[-3:]\n",
    "            # check if the new first character is zero\n",
    "        if num_str[0] == '0':\n",
    "            # remove the zero\n",
    "            num_str = num_str[1:]\n",
    "            # repeat\n",
    "            if num_str[0] == '0':\n",
    "                num_str = num_str[1:]\n",
    "                return int(num_str)\n",
    "            else:\n",
    "                 return int(num_str)\n",
    "        else:\n",
    "             return int(num_str)"
   ]
  },
  {
   "cell_type": "code",
   "execution_count": 15,
   "metadata": {},
   "outputs": [
    {
     "name": "stdout",
     "output_type": "stream",
     "text": [
      "Number of null values in short_county_code column: 0\n"
     ]
    }
   ],
   "source": [
    "house_pricing['short_county_code'] = house_pricing['FIPS'].apply(county_code_reformat) \n",
    "null_values = house_pricing['short_county_code'].isnull().sum()\n",
    "print(f\"Number of null values in short_county_code column: {null_values}\")"
   ]
  },
  {
   "cell_type": "code",
   "execution_count": 16,
   "metadata": {},
   "outputs": [
    {
     "data": {
      "text/plain": [
       "FIPS                 0\n",
       "RegionName           0\n",
       "State                0\n",
       "FIPS.1               0\n",
       "2000                 0\n",
       "2001                 0\n",
       "2002                 0\n",
       "2003                 0\n",
       "2004                 0\n",
       "2005                 0\n",
       "2006                 0\n",
       "2007                 0\n",
       "2008                 0\n",
       "2009                 0\n",
       "2010                 0\n",
       "2011                 0\n",
       "2012                 0\n",
       "2013                 0\n",
       "2014                 0\n",
       "2015                 0\n",
       "2016                 0\n",
       "2017                 0\n",
       "2018                 0\n",
       "2019                 0\n",
       "2020                 0\n",
       "2021                 0\n",
       "2022                 0\n",
       "2023                 0\n",
       "2024                 0\n",
       "short_county_code    0\n",
       "dtype: int64"
      ]
     },
     "execution_count": 16,
     "metadata": {},
     "output_type": "execute_result"
    }
   ],
   "source": [
    "# cast the typpe for the short_county_code as integer\n",
    "house_pricing['short_county_code'] = house_pricing['short_county_code'].astype(int)\n",
    "house_pricing.isna().sum()\n"
   ]
  },
  {
   "cell_type": "code",
   "execution_count": 17,
   "metadata": {},
   "outputs": [],
   "source": [
    "house_pricing.drop(columns=['RegionName', 'FIPS.1'], inplace=True)"
   ]
  },
  {
   "cell_type": "code",
   "execution_count": 18,
   "metadata": {},
   "outputs": [
    {
     "data": {
      "text/plain": [
       "3074"
      ]
     },
     "execution_count": 18,
     "metadata": {},
     "output_type": "execute_result"
    }
   ],
   "source": [
    "house_pricing = house_pricing.groupby(['State', 'FIPS']).mean().reset_index()\n",
    "len(house_pricing)"
   ]
  },
  {
   "cell_type": "code",
   "execution_count": 19,
   "metadata": {},
   "outputs": [
    {
     "name": "stdout",
     "output_type": "stream",
     "text": [
      "3209\n"
     ]
    },
    {
     "data": {
      "text/plain": [
       "y2_state                     0\n",
       "destination_county_fips      0\n",
       "out_return                   0\n",
       "out_individuals              0\n",
       "out_gross_income             0\n",
       "State                      135\n",
       "FIPS                       135\n",
       "2000                       135\n",
       "2001                       135\n",
       "2002                       135\n",
       "2003                       135\n",
       "2004                       135\n",
       "2005                       135\n",
       "2006                       135\n",
       "2007                       135\n",
       "2008                       135\n",
       "2009                       135\n",
       "2010                       135\n",
       "2011                       135\n",
       "2012                       135\n",
       "2013                       135\n",
       "2014                       135\n",
       "2015                       135\n",
       "2016                       135\n",
       "2017                       135\n",
       "2018                       135\n",
       "2019                       135\n",
       "2020                       135\n",
       "2021                       135\n",
       "2022                       135\n",
       "2023                       135\n",
       "2024                       135\n",
       "short_county_code          135\n",
       "dtype: int64"
      ]
     },
     "execution_count": 19,
     "metadata": {},
     "output_type": "execute_result"
    }
   ],
   "source": [
    "# house_pricing_cleaned = house_pricing[['State','short_county_code', 'house_index', 'housing_avg_value']]\n",
    "full_dataset = outflow.merge(house_pricing, left_on=['y2_state', 'destination_county_fips'], right_on=['State', 'short_county_code'], how='left')\n",
    "print(len(full_dataset))\n",
    "full_dataset.isna().sum()"
   ]
  },
  {
   "cell_type": "markdown",
   "metadata": {},
   "source": [
    "## Health data"
   ]
  },
  {
   "cell_type": "code",
   "execution_count": 20,
   "metadata": {},
   "outputs": [],
   "source": [
    "# health = pd.read_csv('/Users/judithyemeli/Documents/CSE_6242/Project/MVR/Network_graph_analysis/Health_Data.csv')"
   ]
  },
  {
   "cell_type": "code",
   "execution_count": 21,
   "metadata": {},
   "outputs": [
    {
     "data": {
      "text/html": [
       "<div>\n",
       "<style scoped>\n",
       "    .dataframe tbody tr th:only-of-type {\n",
       "        vertical-align: middle;\n",
       "    }\n",
       "\n",
       "    .dataframe tbody tr th {\n",
       "        vertical-align: top;\n",
       "    }\n",
       "\n",
       "    .dataframe thead th {\n",
       "        text-align: right;\n",
       "    }\n",
       "</style>\n",
       "<table border=\"1\" class=\"dataframe\">\n",
       "  <thead>\n",
       "    <tr style=\"text-align: right;\">\n",
       "      <th></th>\n",
       "      <th>Year</th>\n",
       "      <th>FIPS</th>\n",
       "      <th>State</th>\n",
       "      <th>County</th>\n",
       "      <th>X..Fair.Poor</th>\n",
       "      <th>Physically.Unhealthy.Days</th>\n",
       "      <th>Mentally.Unhealthy.Days</th>\n",
       "      <th>X..Smokers</th>\n",
       "      <th>X..Obese</th>\n",
       "      <th>X..Physically.Inactive</th>\n",
       "      <th>X..Excessive.Drinking</th>\n",
       "      <th>X..Some.College</th>\n",
       "      <th>Population.1</th>\n",
       "      <th>X..Some.College.1</th>\n",
       "      <th>X..Social.Associations</th>\n",
       "      <th>Association.Rate</th>\n",
       "      <th>X..Severe.Housing.Problems</th>\n",
       "      <th>X..Insufficient.Sleep</th>\n",
       "    </tr>\n",
       "  </thead>\n",
       "  <tbody>\n",
       "    <tr>\n",
       "      <th>0</th>\n",
       "      <td>2017</td>\n",
       "      <td>1001</td>\n",
       "      <td>Alabama</td>\n",
       "      <td>Autauga</td>\n",
       "      <td>18</td>\n",
       "      <td>4.2</td>\n",
       "      <td>4.2</td>\n",
       "      <td>17</td>\n",
       "      <td>34</td>\n",
       "      <td>29</td>\n",
       "      <td>15</td>\n",
       "      <td>8617</td>\n",
       "      <td>14440</td>\n",
       "      <td>59.7</td>\n",
       "      <td>76</td>\n",
       "      <td>13.7</td>\n",
       "      <td>15</td>\n",
       "      <td>38</td>\n",
       "    </tr>\n",
       "    <tr>\n",
       "      <th>1</th>\n",
       "      <td>2017</td>\n",
       "      <td>1003</td>\n",
       "      <td>Alabama</td>\n",
       "      <td>Baldwin</td>\n",
       "      <td>16</td>\n",
       "      <td>3.7</td>\n",
       "      <td>4.0</td>\n",
       "      <td>18</td>\n",
       "      <td>27</td>\n",
       "      <td>22</td>\n",
       "      <td>15</td>\n",
       "      <td>29788</td>\n",
       "      <td>47367</td>\n",
       "      <td>62.9</td>\n",
       "      <td>231</td>\n",
       "      <td>11.5</td>\n",
       "      <td>15</td>\n",
       "      <td>33</td>\n",
       "    </tr>\n",
       "    <tr>\n",
       "      <th>2</th>\n",
       "      <td>2017</td>\n",
       "      <td>1005</td>\n",
       "      <td>Alabama</td>\n",
       "      <td>Barbour</td>\n",
       "      <td>25</td>\n",
       "      <td>4.8</td>\n",
       "      <td>4.8</td>\n",
       "      <td>23</td>\n",
       "      <td>44</td>\n",
       "      <td>32</td>\n",
       "      <td>12</td>\n",
       "      <td>2839</td>\n",
       "      <td>7230</td>\n",
       "      <td>39.3</td>\n",
       "      <td>22</td>\n",
       "      <td>8.2</td>\n",
       "      <td>16</td>\n",
       "      <td>40</td>\n",
       "    </tr>\n",
       "  </tbody>\n",
       "</table>\n",
       "</div>"
      ],
      "text/plain": [
       "   Year  FIPS    State   County  X..Fair.Poor  Physically.Unhealthy.Days  \\\n",
       "0  2017  1001  Alabama  Autauga            18                        4.2   \n",
       "1  2017  1003  Alabama  Baldwin            16                        3.7   \n",
       "2  2017  1005  Alabama  Barbour            25                        4.8   \n",
       "\n",
       "   Mentally.Unhealthy.Days  X..Smokers  X..Obese  X..Physically.Inactive  \\\n",
       "0                      4.2          17        34                      29   \n",
       "1                      4.0          18        27                      22   \n",
       "2                      4.8          23        44                      32   \n",
       "\n",
       "   X..Excessive.Drinking  X..Some.College  Population.1  X..Some.College.1  \\\n",
       "0                     15             8617         14440               59.7   \n",
       "1                     15            29788         47367               62.9   \n",
       "2                     12             2839          7230               39.3   \n",
       "\n",
       "   X..Social.Associations  Association.Rate  X..Severe.Housing.Problems  \\\n",
       "0                      76              13.7                          15   \n",
       "1                     231              11.5                          15   \n",
       "2                      22               8.2                          16   \n",
       "\n",
       "   X..Insufficient.Sleep  \n",
       "0                     38  \n",
       "1                     33  \n",
       "2                     40  "
      ]
     },
     "execution_count": 21,
     "metadata": {},
     "output_type": "execute_result"
    }
   ],
   "source": [
    "health = pd.read_csv('/Users/judithyemeli/Documents/CSE_6242/Project/MVR/Network_graph_analysis/health_data_clean.csv')\n",
    "health.head(3)"
   ]
  },
  {
   "cell_type": "code",
   "execution_count": 22,
   "metadata": {},
   "outputs": [],
   "source": [
    "health['short_county_code'] = health['FIPS'].apply(county_code_reformat)    "
   ]
  },
  {
   "cell_type": "code",
   "execution_count": 23,
   "metadata": {},
   "outputs": [],
   "source": [
    "state_to_abbreviation = {\n",
    "    \"Alabama\": \"AL\", \"Alaska\": \"AK\", \"Arizona\": \"AZ\", \"Arkansas\": \"AR\", \"California\": \"CA\", \n",
    "    \"Colorado\": \"CO\", \"Connecticut\": \"CT\", \"Delaware\": \"DE\", \"Florida\": \"FL\", \"Georgia\": \"GA\",\n",
    "    \"Hawaii\": \"HI\", \"Idaho\": \"ID\", \"Illinois\": \"IL\", \"Indiana\": \"IN\", \"Iowa\": \"IA\", \"Kansas\": \"KS\",\n",
    "    \"Kentucky\": \"KY\", \"Louisiana\": \"LA\", \"Maine\": \"ME\", \"Maryland\": \"MD\", \"Massachusetts\": \"MA\",\n",
    "    \"Michigan\": \"MI\", \"Minnesota\": \"MN\", \"Mississippi\": \"MS\", \"Missouri\": \"MO\", \"Montana\": \"MT\",\n",
    "    \"Nebraska\": \"NE\", \"Nevada\": \"NV\", \"New Hampshire\": \"NH\", \"New Jersey\": \"NJ\", \"New Mexico\": \"NM\",\n",
    "    \"New York\": \"NY\", \"North Carolina\": \"NC\", \"North Dakota\": \"ND\", \"Ohio\": \"OH\", \"Oklahoma\": \"OK\",\n",
    "    \"Oregon\": \"OR\", \"Pennsylvania\": \"PA\", \"Rhode Island\": \"RI\", \"South Carolina\": \"SC\",\n",
    "    \"South Dakota\": \"SD\", \"Tennessee\": \"TN\", \"Texas\": \"TX\", \"Utah\": \"UT\", \"Vermont\": \"VT\",\n",
    "    \"Virginia\": \"VA\", \"Washington\": \"WA\", \"West Virginia\": \"WV\", \"Wisconsin\": \"WI\", \"Wyoming\": \"WY\"\n",
    "}"
   ]
  },
  {
   "cell_type": "code",
   "execution_count": 24,
   "metadata": {},
   "outputs": [
    {
     "data": {
      "text/plain": [
       "array(['AL', 'AK', 'AZ', 'AR', 'CA', 'CO', 'CT', 'DE', nan, 'FL', 'GA',\n",
       "       'HI', 'ID', 'IL', 'IN', 'IA', 'KS', 'KY', 'LA', 'ME', 'MD', 'MA',\n",
       "       'MI', 'MN', 'MS', 'MO', 'MT', 'NE', 'NV', 'NH', 'NJ', 'NM', 'NY',\n",
       "       'NC', 'ND', 'OH', 'OK', 'OR', 'PA', 'RI', 'SC', 'SD', 'TN', 'TX',\n",
       "       'UT', 'VT', 'VA', 'WA', 'WV', 'WI', 'WY'], dtype=object)"
      ]
     },
     "execution_count": 24,
     "metadata": {},
     "output_type": "execute_result"
    }
   ],
   "source": [
    "health['State_short'] = health['State'].map(state_to_abbreviation)\n",
    "health['State_short'].unique()"
   ]
  },
  {
   "cell_type": "code",
   "execution_count": 25,
   "metadata": {},
   "outputs": [],
   "source": [
    "health.drop(columns=['State', 'County', 'FIPS'], inplace=True)\n",
    "health.rename(columns={'State_short': 'State', 'short_county_code':'FIPS'}, inplace=True)"
   ]
  },
  {
   "cell_type": "code",
   "execution_count": 26,
   "metadata": {},
   "outputs": [
    {
     "data": {
      "text/html": [
       "<div>\n",
       "<style scoped>\n",
       "    .dataframe tbody tr th:only-of-type {\n",
       "        vertical-align: middle;\n",
       "    }\n",
       "\n",
       "    .dataframe tbody tr th {\n",
       "        vertical-align: top;\n",
       "    }\n",
       "\n",
       "    .dataframe thead th {\n",
       "        text-align: right;\n",
       "    }\n",
       "</style>\n",
       "<table border=\"1\" class=\"dataframe\">\n",
       "  <thead>\n",
       "    <tr style=\"text-align: right;\">\n",
       "      <th></th>\n",
       "      <th>Year</th>\n",
       "      <th>X..Fair.Poor</th>\n",
       "      <th>Physically.Unhealthy.Days</th>\n",
       "      <th>Mentally.Unhealthy.Days</th>\n",
       "      <th>X..Smokers</th>\n",
       "      <th>X..Obese</th>\n",
       "      <th>X..Physically.Inactive</th>\n",
       "      <th>X..Excessive.Drinking</th>\n",
       "      <th>X..Some.College</th>\n",
       "      <th>Population.1</th>\n",
       "      <th>X..Some.College.1</th>\n",
       "      <th>X..Social.Associations</th>\n",
       "      <th>Association.Rate</th>\n",
       "      <th>X..Severe.Housing.Problems</th>\n",
       "      <th>X..Insufficient.Sleep</th>\n",
       "      <th>FIPS</th>\n",
       "      <th>State</th>\n",
       "    </tr>\n",
       "  </thead>\n",
       "  <tbody>\n",
       "    <tr>\n",
       "      <th>0</th>\n",
       "      <td>2017</td>\n",
       "      <td>18</td>\n",
       "      <td>4.2</td>\n",
       "      <td>4.2</td>\n",
       "      <td>17</td>\n",
       "      <td>34</td>\n",
       "      <td>29</td>\n",
       "      <td>15</td>\n",
       "      <td>8617</td>\n",
       "      <td>14440</td>\n",
       "      <td>59.7</td>\n",
       "      <td>76</td>\n",
       "      <td>13.7</td>\n",
       "      <td>15</td>\n",
       "      <td>38</td>\n",
       "      <td>1</td>\n",
       "      <td>AL</td>\n",
       "    </tr>\n",
       "    <tr>\n",
       "      <th>1</th>\n",
       "      <td>2017</td>\n",
       "      <td>16</td>\n",
       "      <td>3.7</td>\n",
       "      <td>4.0</td>\n",
       "      <td>18</td>\n",
       "      <td>27</td>\n",
       "      <td>22</td>\n",
       "      <td>15</td>\n",
       "      <td>29788</td>\n",
       "      <td>47367</td>\n",
       "      <td>62.9</td>\n",
       "      <td>231</td>\n",
       "      <td>11.5</td>\n",
       "      <td>15</td>\n",
       "      <td>33</td>\n",
       "      <td>3</td>\n",
       "      <td>AL</td>\n",
       "    </tr>\n",
       "    <tr>\n",
       "      <th>2</th>\n",
       "      <td>2017</td>\n",
       "      <td>25</td>\n",
       "      <td>4.8</td>\n",
       "      <td>4.8</td>\n",
       "      <td>23</td>\n",
       "      <td>44</td>\n",
       "      <td>32</td>\n",
       "      <td>12</td>\n",
       "      <td>2839</td>\n",
       "      <td>7230</td>\n",
       "      <td>39.3</td>\n",
       "      <td>22</td>\n",
       "      <td>8.2</td>\n",
       "      <td>16</td>\n",
       "      <td>40</td>\n",
       "      <td>5</td>\n",
       "      <td>AL</td>\n",
       "    </tr>\n",
       "  </tbody>\n",
       "</table>\n",
       "</div>"
      ],
      "text/plain": [
       "   Year  X..Fair.Poor  Physically.Unhealthy.Days  Mentally.Unhealthy.Days  \\\n",
       "0  2017            18                        4.2                      4.2   \n",
       "1  2017            16                        3.7                      4.0   \n",
       "2  2017            25                        4.8                      4.8   \n",
       "\n",
       "   X..Smokers  X..Obese  X..Physically.Inactive  X..Excessive.Drinking  \\\n",
       "0          17        34                      29                     15   \n",
       "1          18        27                      22                     15   \n",
       "2          23        44                      32                     12   \n",
       "\n",
       "   X..Some.College  Population.1  X..Some.College.1  X..Social.Associations  \\\n",
       "0             8617         14440               59.7                      76   \n",
       "1            29788         47367               62.9                     231   \n",
       "2             2839          7230               39.3                      22   \n",
       "\n",
       "   Association.Rate  X..Severe.Housing.Problems  X..Insufficient.Sleep  FIPS  \\\n",
       "0              13.7                          15                     38     1   \n",
       "1              11.5                          15                     33     3   \n",
       "2               8.2                          16                     40     5   \n",
       "\n",
       "  State  \n",
       "0    AL  \n",
       "1    AL  \n",
       "2    AL  "
      ]
     },
     "execution_count": 26,
     "metadata": {},
     "output_type": "execute_result"
    }
   ],
   "source": [
    "health.head(3)"
   ]
  },
  {
   "cell_type": "code",
   "execution_count": 27,
   "metadata": {},
   "outputs": [
    {
     "data": {
      "text/plain": [
       "3142"
      ]
     },
     "execution_count": 27,
     "metadata": {},
     "output_type": "execute_result"
    }
   ],
   "source": [
    "health_grouped = health.groupby(by=['State', 'FIPS']).mean().reset_index()\n",
    "len(health_grouped)"
   ]
  },
  {
   "cell_type": "code",
   "execution_count": 28,
   "metadata": {},
   "outputs": [
    {
     "data": {
      "text/html": [
       "<div>\n",
       "<style scoped>\n",
       "    .dataframe tbody tr th:only-of-type {\n",
       "        vertical-align: middle;\n",
       "    }\n",
       "\n",
       "    .dataframe tbody tr th {\n",
       "        vertical-align: top;\n",
       "    }\n",
       "\n",
       "    .dataframe thead th {\n",
       "        text-align: right;\n",
       "    }\n",
       "</style>\n",
       "<table border=\"1\" class=\"dataframe\">\n",
       "  <thead>\n",
       "    <tr style=\"text-align: right;\">\n",
       "      <th></th>\n",
       "      <th>State</th>\n",
       "      <th>FIPS</th>\n",
       "      <th>Year</th>\n",
       "      <th>X..Fair.Poor</th>\n",
       "      <th>Physically.Unhealthy.Days</th>\n",
       "      <th>Mentally.Unhealthy.Days</th>\n",
       "      <th>X..Smokers</th>\n",
       "      <th>X..Obese</th>\n",
       "      <th>X..Physically.Inactive</th>\n",
       "      <th>X..Excessive.Drinking</th>\n",
       "      <th>X..Some.College</th>\n",
       "      <th>Population.1</th>\n",
       "      <th>X..Some.College.1</th>\n",
       "      <th>X..Social.Associations</th>\n",
       "      <th>Association.Rate</th>\n",
       "      <th>X..Severe.Housing.Problems</th>\n",
       "      <th>X..Insufficient.Sleep</th>\n",
       "    </tr>\n",
       "  </thead>\n",
       "  <tbody>\n",
       "    <tr>\n",
       "      <th>0</th>\n",
       "      <td>AK</td>\n",
       "      <td>13</td>\n",
       "      <td>2019.0</td>\n",
       "      <td>17.6</td>\n",
       "      <td>3.62</td>\n",
       "      <td>2.94</td>\n",
       "      <td>18.2</td>\n",
       "      <td>42.2</td>\n",
       "      <td>26.6</td>\n",
       "      <td>16.8</td>\n",
       "      <td>434.8</td>\n",
       "      <td>1005.6</td>\n",
       "      <td>43.20</td>\n",
       "      <td>1.6</td>\n",
       "      <td>4.80</td>\n",
       "      <td>13.0</td>\n",
       "      <td>143.0</td>\n",
       "    </tr>\n",
       "    <tr>\n",
       "      <th>1</th>\n",
       "      <td>AK</td>\n",
       "      <td>16</td>\n",
       "      <td>2019.0</td>\n",
       "      <td>15.6</td>\n",
       "      <td>3.22</td>\n",
       "      <td>2.78</td>\n",
       "      <td>16.2</td>\n",
       "      <td>41.2</td>\n",
       "      <td>25.8</td>\n",
       "      <td>18.6</td>\n",
       "      <td>987.8</td>\n",
       "      <td>1892.8</td>\n",
       "      <td>52.24</td>\n",
       "      <td>2.8</td>\n",
       "      <td>4.92</td>\n",
       "      <td>19.0</td>\n",
       "      <td>94.6</td>\n",
       "    </tr>\n",
       "    <tr>\n",
       "      <th>2</th>\n",
       "      <td>AK</td>\n",
       "      <td>20</td>\n",
       "      <td>2019.0</td>\n",
       "      <td>13.6</td>\n",
       "      <td>3.48</td>\n",
       "      <td>3.32</td>\n",
       "      <td>15.4</td>\n",
       "      <td>29.2</td>\n",
       "      <td>17.4</td>\n",
       "      <td>20.0</td>\n",
       "      <td>63400.2</td>\n",
       "      <td>89256.8</td>\n",
       "      <td>70.96</td>\n",
       "      <td>339.4</td>\n",
       "      <td>11.44</td>\n",
       "      <td>16.6</td>\n",
       "      <td>13097.8</td>\n",
       "    </tr>\n",
       "  </tbody>\n",
       "</table>\n",
       "</div>"
      ],
      "text/plain": [
       "  State  FIPS    Year  X..Fair.Poor  Physically.Unhealthy.Days  \\\n",
       "0    AK    13  2019.0          17.6                       3.62   \n",
       "1    AK    16  2019.0          15.6                       3.22   \n",
       "2    AK    20  2019.0          13.6                       3.48   \n",
       "\n",
       "   Mentally.Unhealthy.Days  X..Smokers  X..Obese  X..Physically.Inactive  \\\n",
       "0                     2.94        18.2      42.2                    26.6   \n",
       "1                     2.78        16.2      41.2                    25.8   \n",
       "2                     3.32        15.4      29.2                    17.4   \n",
       "\n",
       "   X..Excessive.Drinking  X..Some.College  Population.1  X..Some.College.1  \\\n",
       "0                   16.8            434.8        1005.6              43.20   \n",
       "1                   18.6            987.8        1892.8              52.24   \n",
       "2                   20.0          63400.2       89256.8              70.96   \n",
       "\n",
       "   X..Social.Associations  Association.Rate  X..Severe.Housing.Problems  \\\n",
       "0                     1.6              4.80                        13.0   \n",
       "1                     2.8              4.92                        19.0   \n",
       "2                   339.4             11.44                        16.6   \n",
       "\n",
       "   X..Insufficient.Sleep  \n",
       "0                  143.0  \n",
       "1                   94.6  \n",
       "2                13097.8  "
      ]
     },
     "execution_count": 28,
     "metadata": {},
     "output_type": "execute_result"
    }
   ],
   "source": [
    "health_grouped.head(3)"
   ]
  },
  {
   "cell_type": "code",
   "execution_count": 29,
   "metadata": {},
   "outputs": [
    {
     "data": {
      "text/plain": [
       "State                         0\n",
       "FIPS                          0\n",
       "Year                          0\n",
       "X..Fair.Poor                  0\n",
       "Physically.Unhealthy.Days     0\n",
       "Mentally.Unhealthy.Days       0\n",
       "X..Smokers                    0\n",
       "X..Obese                      0\n",
       "X..Physically.Inactive        0\n",
       "X..Excessive.Drinking         0\n",
       "X..Some.College               0\n",
       "Population.1                  0\n",
       "X..Some.College.1             0\n",
       "X..Social.Associations        0\n",
       "Association.Rate              0\n",
       "X..Severe.Housing.Problems    0\n",
       "X..Insufficient.Sleep         0\n",
       "dtype: int64"
      ]
     },
     "execution_count": 29,
     "metadata": {},
     "output_type": "execute_result"
    }
   ],
   "source": [
    "health_grouped.isna().sum()"
   ]
  },
  {
   "cell_type": "code",
   "execution_count": 30,
   "metadata": {},
   "outputs": [
    {
     "data": {
      "text/html": [
       "<div>\n",
       "<style scoped>\n",
       "    .dataframe tbody tr th:only-of-type {\n",
       "        vertical-align: middle;\n",
       "    }\n",
       "\n",
       "    .dataframe tbody tr th {\n",
       "        vertical-align: top;\n",
       "    }\n",
       "\n",
       "    .dataframe thead th {\n",
       "        text-align: right;\n",
       "    }\n",
       "</style>\n",
       "<table border=\"1\" class=\"dataframe\">\n",
       "  <thead>\n",
       "    <tr style=\"text-align: right;\">\n",
       "      <th></th>\n",
       "      <th>y2_state</th>\n",
       "      <th>destination_county_fips</th>\n",
       "      <th>out_return</th>\n",
       "      <th>out_individuals</th>\n",
       "      <th>out_gross_income</th>\n",
       "      <th>State</th>\n",
       "      <th>FIPS</th>\n",
       "      <th>2000</th>\n",
       "      <th>2001</th>\n",
       "      <th>2002</th>\n",
       "      <th>...</th>\n",
       "      <th>2016</th>\n",
       "      <th>2017</th>\n",
       "      <th>2018</th>\n",
       "      <th>2019</th>\n",
       "      <th>2020</th>\n",
       "      <th>2021</th>\n",
       "      <th>2022</th>\n",
       "      <th>2023</th>\n",
       "      <th>2024</th>\n",
       "      <th>short_county_code</th>\n",
       "    </tr>\n",
       "  </thead>\n",
       "  <tbody>\n",
       "    <tr>\n",
       "      <th>0</th>\n",
       "      <td>AK</td>\n",
       "      <td>0</td>\n",
       "      <td>364248</td>\n",
       "      <td>733000</td>\n",
       "      <td>22577044</td>\n",
       "      <td>NaN</td>\n",
       "      <td>NaN</td>\n",
       "      <td>NaN</td>\n",
       "      <td>NaN</td>\n",
       "      <td>NaN</td>\n",
       "      <td>...</td>\n",
       "      <td>NaN</td>\n",
       "      <td>NaN</td>\n",
       "      <td>NaN</td>\n",
       "      <td>NaN</td>\n",
       "      <td>NaN</td>\n",
       "      <td>NaN</td>\n",
       "      <td>NaN</td>\n",
       "      <td>NaN</td>\n",
       "      <td>NaN</td>\n",
       "      <td>NaN</td>\n",
       "    </tr>\n",
       "    <tr>\n",
       "      <th>1</th>\n",
       "      <td>AK</td>\n",
       "      <td>1</td>\n",
       "      <td>48217</td>\n",
       "      <td>91547</td>\n",
       "      <td>2853137</td>\n",
       "      <td>NaN</td>\n",
       "      <td>NaN</td>\n",
       "      <td>NaN</td>\n",
       "      <td>NaN</td>\n",
       "      <td>NaN</td>\n",
       "      <td>...</td>\n",
       "      <td>NaN</td>\n",
       "      <td>NaN</td>\n",
       "      <td>NaN</td>\n",
       "      <td>NaN</td>\n",
       "      <td>NaN</td>\n",
       "      <td>NaN</td>\n",
       "      <td>NaN</td>\n",
       "      <td>NaN</td>\n",
       "      <td>NaN</td>\n",
       "      <td>NaN</td>\n",
       "    </tr>\n",
       "    <tr>\n",
       "      <th>2</th>\n",
       "      <td>AK</td>\n",
       "      <td>3</td>\n",
       "      <td>131234</td>\n",
       "      <td>269101</td>\n",
       "      <td>8294827</td>\n",
       "      <td>NaN</td>\n",
       "      <td>NaN</td>\n",
       "      <td>NaN</td>\n",
       "      <td>NaN</td>\n",
       "      <td>NaN</td>\n",
       "      <td>...</td>\n",
       "      <td>NaN</td>\n",
       "      <td>NaN</td>\n",
       "      <td>NaN</td>\n",
       "      <td>NaN</td>\n",
       "      <td>NaN</td>\n",
       "      <td>NaN</td>\n",
       "      <td>NaN</td>\n",
       "      <td>NaN</td>\n",
       "      <td>NaN</td>\n",
       "      <td>NaN</td>\n",
       "    </tr>\n",
       "  </tbody>\n",
       "</table>\n",
       "<p>3 rows × 33 columns</p>\n",
       "</div>"
      ],
      "text/plain": [
       "  y2_state  destination_county_fips  out_return  out_individuals  \\\n",
       "0       AK                        0      364248           733000   \n",
       "1       AK                        1       48217            91547   \n",
       "2       AK                        3      131234           269101   \n",
       "\n",
       "   out_gross_income State  FIPS  2000  2001  2002  ...  2016  2017  2018  \\\n",
       "0          22577044   NaN   NaN   NaN   NaN   NaN  ...   NaN   NaN   NaN   \n",
       "1           2853137   NaN   NaN   NaN   NaN   NaN  ...   NaN   NaN   NaN   \n",
       "2           8294827   NaN   NaN   NaN   NaN   NaN  ...   NaN   NaN   NaN   \n",
       "\n",
       "   2019  2020  2021  2022  2023  2024  short_county_code  \n",
       "0   NaN   NaN   NaN   NaN   NaN   NaN                NaN  \n",
       "1   NaN   NaN   NaN   NaN   NaN   NaN                NaN  \n",
       "2   NaN   NaN   NaN   NaN   NaN   NaN                NaN  \n",
       "\n",
       "[3 rows x 33 columns]"
      ]
     },
     "execution_count": 30,
     "metadata": {},
     "output_type": "execute_result"
    }
   ],
   "source": [
    "full_dataset.head(3)"
   ]
  },
  {
   "cell_type": "code",
   "execution_count": 31,
   "metadata": {},
   "outputs": [
    {
     "data": {
      "text/plain": [
       "3209"
      ]
     },
     "execution_count": 31,
     "metadata": {},
     "output_type": "execute_result"
    }
   ],
   "source": [
    "full_dataset = full_dataset.merge(health_grouped, left_on=['y2_state', 'destination_county_fips'], right_on=['State', 'FIPS'], how='left')\n",
    "len(full_dataset)"
   ]
  },
  {
   "cell_type": "code",
   "execution_count": 32,
   "metadata": {},
   "outputs": [
    {
     "data": {
      "text/plain": [
       "(3209, 50)"
      ]
     },
     "execution_count": 32,
     "metadata": {},
     "output_type": "execute_result"
    }
   ],
   "source": [
    "full_dataset.shape"
   ]
  },
  {
   "cell_type": "code",
   "execution_count": 33,
   "metadata": {},
   "outputs": [],
   "source": [
    "full_dataset.to_csv('full_dataset.csv', index=False)"
   ]
  }
 ],
 "metadata": {
  "kernelspec": {
   "display_name": "base",
   "language": "python",
   "name": "python3"
  },
  "language_info": {
   "codemirror_mode": {
    "name": "ipython",
    "version": 3
   },
   "file_extension": ".py",
   "mimetype": "text/x-python",
   "name": "python",
   "nbconvert_exporter": "python",
   "pygments_lexer": "ipython3",
   "version": "3.12.4"
  }
 },
 "nbformat": 4,
 "nbformat_minor": 2
}
