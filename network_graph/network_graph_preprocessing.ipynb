{
 "cells": [
  {
   "cell_type": "markdown",
   "metadata": {},
   "source": [
    "# Network Graph"
   ]
  },
  {
   "cell_type": "code",
   "execution_count": 2,
   "metadata": {},
   "outputs": [],
   "source": [
    "# imports\n",
    "import os\n",
    "import pandas as pd\n",
    "from sklearn.preprocessing import StandardScaler\n",
    "from itertools import product\n"
   ]
  },
  {
   "cell_type": "markdown",
   "metadata": {},
   "source": [
    "``` MARKDOWN\n",
    "Network Graph Computation pipeline including: data preparation, computation, and visualization steps to create an insightful similarity network graph and enhance user analysis capabilities.\n",
    "\n",
    "Data Preprocessing and Merging:\n",
    "Merged the inflow and outflow migration datasets by grouping on state and county.\n",
    "Cleaned the house price dataset and merged it with the migration data.\n",
    "Processed the health dataset by removing non-numeric columns that required further processing. Only kept columns in the correct format and merged this with the migration and house price data to create a unified dataset.\n",
    "Feature Scaling:\n",
    "\n",
    "Scaled all numeric attributes in the dataset to normalize the data for similarity computation.\n",
    "Pairwise County Data Creation:\n",
    "\n",
    "Created all possible county pairs for the dataset (pairwise data). With around 3,000 counties, this produced approximately 9 million pairs for analysis.\n",
    "Similarity Matrix Calculation on AWS:\n",
    "\n",
    "Due to the large data size, the similarity matrix computation will be performed on AWS. The plan is to use an EMR cluster and an S3 bucket to compute the similarity matrix efficiently.\n",
    "The output will be a similarity measure for each county pair, which could be visualized in Tableau:\n",
    "\n",
    " In Tableau to allow users to select a county and view how other counties relate to it in terms of similarity. The similarity metric will be reflected in color intensity—darker colors indicate higher similarity, while lighter colors show lower similarity.\n",
    "\n",
    "Network Graph Visualization:\n",
    "The network visualization aims to provide insight into county clusters with similar attributes and high interaction. This clustered view in NetworkX complements Tableau’s map view, offering a clear picture of county relationships and similarities.\n",
    "For network visualization of strong similarities (e.g., similarity > 0.7), we’ll use NetworkX to create clusters of highly similar counties that are not in the same State. This graph will help understand the relationship between counties, allowing users to see interconnected clusters.\n",
    "\n",
    "\n",
    "Next steps:\n",
    "Recalculate and refine the pricing index to improve accuracy for house price analysis.\n",
    "replace housinhg and health with updated csv from EDA step."
   ]
  },
  {
   "cell_type": "markdown",
   "metadata": {},
   "source": [
    "## Data Preparation"
   ]
  },
  {
   "cell_type": "code",
   "execution_count": 3,
   "metadata": {},
   "outputs": [
    {
     "name": "stdout",
     "output_type": "stream",
     "text": [
      "3073\n"
     ]
    },
    {
     "data": {
      "text/html": [
       "<div>\n",
       "<style scoped>\n",
       "    .dataframe tbody tr th:only-of-type {\n",
       "        vertical-align: middle;\n",
       "    }\n",
       "\n",
       "    .dataframe tbody tr th {\n",
       "        vertical-align: top;\n",
       "    }\n",
       "\n",
       "    .dataframe thead th {\n",
       "        text-align: right;\n",
       "    }\n",
       "</style>\n",
       "<table border=\"1\" class=\"dataframe\">\n",
       "  <thead>\n",
       "    <tr style=\"text-align: right;\">\n",
       "      <th></th>\n",
       "      <th>State</th>\n",
       "      <th>FIPS</th>\n",
       "      <th>in_return</th>\n",
       "      <th>in_individuals</th>\n",
       "      <th>in_gross_income</th>\n",
       "      <th>out_return</th>\n",
       "      <th>out_individuals</th>\n",
       "      <th>out_gross_income</th>\n",
       "      <th>short_county_code</th>\n",
       "      <th>house_index</th>\n",
       "      <th>...</th>\n",
       "      <th>% Native Hawaiian/Other Pacific Islander</th>\n",
       "      <th># Hispanic</th>\n",
       "      <th>% Hispanic</th>\n",
       "      <th># Non-Hispanic White</th>\n",
       "      <th>% Non-Hispanic White</th>\n",
       "      <th># Not Proficient in English</th>\n",
       "      <th>% Not Proficient in English</th>\n",
       "      <th>% Female</th>\n",
       "      <th># Rural</th>\n",
       "      <th>% Rural</th>\n",
       "    </tr>\n",
       "  </thead>\n",
       "  <tbody>\n",
       "    <tr>\n",
       "      <th>0</th>\n",
       "      <td>AK</td>\n",
       "      <td>20</td>\n",
       "      <td>579276</td>\n",
       "      <td>1167880</td>\n",
       "      <td>52632390</td>\n",
       "      <td>569940</td>\n",
       "      <td>1147243</td>\n",
       "      <td>51809926</td>\n",
       "      <td>20</td>\n",
       "      <td>98038.851467</td>\n",
       "      <td>...</td>\n",
       "      <td>4.225</td>\n",
       "      <td>64306.75</td>\n",
       "      <td>21.625</td>\n",
       "      <td>129787.00</td>\n",
       "      <td>44.050</td>\n",
       "      <td>5005.650</td>\n",
       "      <td>3005.575</td>\n",
       "      <td>37.800</td>\n",
       "      <td>37109.000000</td>\n",
       "      <td>50.766667</td>\n",
       "    </tr>\n",
       "    <tr>\n",
       "      <th>1</th>\n",
       "      <td>AK</td>\n",
       "      <td>90</td>\n",
       "      <td>177038</td>\n",
       "      <td>365543</td>\n",
       "      <td>14181531</td>\n",
       "      <td>174474</td>\n",
       "      <td>360165</td>\n",
       "      <td>14011979</td>\n",
       "      <td>90</td>\n",
       "      <td>76671.822998</td>\n",
       "      <td>...</td>\n",
       "      <td>2.400</td>\n",
       "      <td>23650.50</td>\n",
       "      <td>23.750</td>\n",
       "      <td>52393.25</td>\n",
       "      <td>52.525</td>\n",
       "      <td>564.150</td>\n",
       "      <td>7531.725</td>\n",
       "      <td>42.225</td>\n",
       "      <td>13748.666667</td>\n",
       "      <td>76.966667</td>\n",
       "    </tr>\n",
       "    <tr>\n",
       "      <th>2</th>\n",
       "      <td>AK</td>\n",
       "      <td>100</td>\n",
       "      <td>4898</td>\n",
       "      <td>9011</td>\n",
       "      <td>363680</td>\n",
       "      <td>4898</td>\n",
       "      <td>9011</td>\n",
       "      <td>363680</td>\n",
       "      <td>100</td>\n",
       "      <td>53136.207111</td>\n",
       "      <td>...</td>\n",
       "      <td>0.750</td>\n",
       "      <td>541.00</td>\n",
       "      <td>21.375</td>\n",
       "      <td>1459.50</td>\n",
       "      <td>58.425</td>\n",
       "      <td>25.850</td>\n",
       "      <td>627.650</td>\n",
       "      <td>63.050</td>\n",
       "      <td>8846.000000</td>\n",
       "      <td>36.066667</td>\n",
       "    </tr>\n",
       "    <tr>\n",
       "      <th>3</th>\n",
       "      <td>AK</td>\n",
       "      <td>110</td>\n",
       "      <td>64661</td>\n",
       "      <td>124678</td>\n",
       "      <td>5770237</td>\n",
       "      <td>64498</td>\n",
       "      <td>124406</td>\n",
       "      <td>5759018</td>\n",
       "      <td>110</td>\n",
       "      <td>168794.381271</td>\n",
       "      <td>...</td>\n",
       "      <td>2.500</td>\n",
       "      <td>6969.75</td>\n",
       "      <td>21.350</td>\n",
       "      <td>15719.25</td>\n",
       "      <td>48.800</td>\n",
       "      <td>282.475</td>\n",
       "      <td>1685.300</td>\n",
       "      <td>42.225</td>\n",
       "      <td>997.000000</td>\n",
       "      <td>100.000000</td>\n",
       "    </tr>\n",
       "    <tr>\n",
       "      <th>4</th>\n",
       "      <td>AK</td>\n",
       "      <td>122</td>\n",
       "      <td>110847</td>\n",
       "      <td>229224</td>\n",
       "      <td>8601897</td>\n",
       "      <td>111151</td>\n",
       "      <td>229854</td>\n",
       "      <td>8652362</td>\n",
       "      <td>122</td>\n",
       "      <td>91301.777446</td>\n",
       "      <td>...</td>\n",
       "      <td>1.275</td>\n",
       "      <td>13582.25</td>\n",
       "      <td>23.375</td>\n",
       "      <td>35376.25</td>\n",
       "      <td>60.450</td>\n",
       "      <td>215.325</td>\n",
       "      <td>10988.625</td>\n",
       "      <td>55.650</td>\n",
       "      <td>3463.333333</td>\n",
       "      <td>73.833333</td>\n",
       "    </tr>\n",
       "  </tbody>\n",
       "</table>\n",
       "<p>5 rows × 137 columns</p>\n",
       "</div>"
      ],
      "text/plain": [
       "  State  FIPS  in_return  in_individuals  in_gross_income  out_return  \\\n",
       "0    AK    20     579276         1167880         52632390      569940   \n",
       "1    AK    90     177038          365543         14181531      174474   \n",
       "2    AK   100       4898            9011           363680        4898   \n",
       "3    AK   110      64661          124678          5770237       64498   \n",
       "4    AK   122     110847          229224          8601897      111151   \n",
       "\n",
       "   out_individuals  out_gross_income  short_county_code    house_index  ...  \\\n",
       "0          1147243          51809926                 20   98038.851467  ...   \n",
       "1           360165          14011979                 90   76671.822998  ...   \n",
       "2             9011            363680                100   53136.207111  ...   \n",
       "3           124406           5759018                110  168794.381271  ...   \n",
       "4           229854           8652362                122   91301.777446  ...   \n",
       "\n",
       "   % Native Hawaiian/Other Pacific Islander  # Hispanic  % Hispanic  \\\n",
       "0                                     4.225    64306.75      21.625   \n",
       "1                                     2.400    23650.50      23.750   \n",
       "2                                     0.750      541.00      21.375   \n",
       "3                                     2.500     6969.75      21.350   \n",
       "4                                     1.275    13582.25      23.375   \n",
       "\n",
       "   # Non-Hispanic White  % Non-Hispanic White  # Not Proficient in English  \\\n",
       "0             129787.00                44.050                     5005.650   \n",
       "1              52393.25                52.525                      564.150   \n",
       "2               1459.50                58.425                       25.850   \n",
       "3              15719.25                48.800                      282.475   \n",
       "4              35376.25                60.450                      215.325   \n",
       "\n",
       "   % Not Proficient in English  % Female       # Rural     % Rural  \n",
       "0                     3005.575    37.800  37109.000000   50.766667  \n",
       "1                     7531.725    42.225  13748.666667   76.966667  \n",
       "2                      627.650    63.050   8846.000000   36.066667  \n",
       "3                     1685.300    42.225    997.000000  100.000000  \n",
       "4                    10988.625    55.650   3463.333333   73.833333  \n",
       "\n",
       "[5 rows x 137 columns]"
      ]
     },
     "execution_count": 3,
     "metadata": {},
     "output_type": "execute_result"
    }
   ],
   "source": [
    "# import data\n",
    "data = pd.read_csv('/Users/judithyemeli/Documents/CSE_6242/Project/MVR/Network_graph_analysis/full_dataset.csv')\n",
    "print(len(data))\n",
    "data.head()"
   ]
  },
  {
   "cell_type": "code",
   "execution_count": 4,
   "metadata": {},
   "outputs": [],
   "source": [
    "# create a unique identifier for each county using both State and FIPS codes\n",
    "data['id'] = data['State'] + data['FIPS'].astype(str)\n",
    "data_cleaned= data.drop(['State', 'FIPS'], axis=1)"
   ]
  },
  {
   "cell_type": "code",
   "execution_count": 5,
   "metadata": {},
   "outputs": [],
   "source": [
    "# scale data\n",
    "scaler = StandardScaler()\n",
    "scaled_data = scaler.fit_transform(data_cleaned.drop('id', axis=1))"
   ]
  },
  {
   "cell_type": "code",
   "execution_count": 6,
   "metadata": {},
   "outputs": [],
   "source": [
    "# create pairwise combination of counties\n",
    "def create_county_pairs(df, id_col='county_id'):\n",
    "    \"\"\"\n",
    "    Creates a DataFrame of all possible pairs of counties with their respective data.\n",
    "\n",
    "    Parameters:\n",
    "    - df (pd.DataFrame): The original DataFrame with county data.\n",
    "    - id_col (str): The column name for the county identifier (default is 'county_id').\n",
    "\n",
    "    Returns:\n",
    "    - pd.DataFrame: A DataFrame with all unique pairs of counties and their data.\n",
    "    \"\"\"\n",
    "    # Create all possible pairs of counties\n",
    "    pairs = pd.DataFrame(list(product(df[id_col], df[id_col])), columns=[f'{id_col}_1', f'{id_col}_2'])\n",
    "\n",
    "    # Filter out self-pairs (where both IDs are the same)\n",
    "    pairs = pairs[pairs[f'{id_col}_1'] != pairs[f'{id_col}_2']].reset_index(drop=True)\n",
    "\n",
    "    # Merge the pairs back to the original DataFrame to get the full data for each county\n",
    "    pairs = pairs.merge(df.add_suffix('_1'), left_on=f'{id_col}_1', right_on=f'{id_col}_1')\n",
    "    pairs = pairs.merge(df.add_suffix('_2'), left_on=f'{id_col}_2', right_on=f'{id_col}_2')\n",
    "    \n",
    "    return pairs"
   ]
  },
  {
   "cell_type": "code",
   "execution_count": 7,
   "metadata": {},
   "outputs": [
    {
     "ename": "IndexError",
     "evalue": "only integers, slices (`:`), ellipsis (`...`), numpy.newaxis (`None`) and integer or boolean arrays are valid indices",
     "output_type": "error",
     "traceback": [
      "\u001b[0;31m---------------------------------------------------------------------------\u001b[0m",
      "\u001b[0;31mIndexError\u001b[0m                                Traceback (most recent call last)",
      "Cell \u001b[0;32mIn[7], line 1\u001b[0m\n\u001b[0;32m----> 1\u001b[0m paired_data \u001b[38;5;241m=\u001b[39m \u001b[43mcreate_county_pairs\u001b[49m\u001b[43m(\u001b[49m\u001b[43mscaled_data\u001b[49m\u001b[43m,\u001b[49m\u001b[43m \u001b[49m\u001b[43mid_col\u001b[49m\u001b[38;5;241;43m=\u001b[39;49m\u001b[38;5;124;43m'\u001b[39;49m\u001b[38;5;124;43mid\u001b[39;49m\u001b[38;5;124;43m'\u001b[39;49m\u001b[43m)\u001b[49m\n",
      "Cell \u001b[0;32mIn[6], line 14\u001b[0m, in \u001b[0;36mcreate_county_pairs\u001b[0;34m(df, id_col)\u001b[0m\n\u001b[1;32m      3\u001b[0m \u001b[38;5;250m\u001b[39m\u001b[38;5;124;03m\"\"\"\u001b[39;00m\n\u001b[1;32m      4\u001b[0m \u001b[38;5;124;03mCreates a DataFrame of all possible pairs of counties with their respective data.\u001b[39;00m\n\u001b[1;32m      5\u001b[0m \n\u001b[0;32m   (...)\u001b[0m\n\u001b[1;32m     11\u001b[0m \u001b[38;5;124;03m- pd.DataFrame: A DataFrame with all unique pairs of counties and their data.\u001b[39;00m\n\u001b[1;32m     12\u001b[0m \u001b[38;5;124;03m\"\"\"\u001b[39;00m\n\u001b[1;32m     13\u001b[0m \u001b[38;5;66;03m# Create all possible pairs of counties\u001b[39;00m\n\u001b[0;32m---> 14\u001b[0m pairs \u001b[38;5;241m=\u001b[39m pd\u001b[38;5;241m.\u001b[39mDataFrame(\u001b[38;5;28mlist\u001b[39m(product(\u001b[43mdf\u001b[49m\u001b[43m[\u001b[49m\u001b[43mid_col\u001b[49m\u001b[43m]\u001b[49m, df[id_col])), columns\u001b[38;5;241m=\u001b[39m[\u001b[38;5;124mf\u001b[39m\u001b[38;5;124m'\u001b[39m\u001b[38;5;132;01m{\u001b[39;00mid_col\u001b[38;5;132;01m}\u001b[39;00m\u001b[38;5;124m_1\u001b[39m\u001b[38;5;124m'\u001b[39m, \u001b[38;5;124mf\u001b[39m\u001b[38;5;124m'\u001b[39m\u001b[38;5;132;01m{\u001b[39;00mid_col\u001b[38;5;132;01m}\u001b[39;00m\u001b[38;5;124m_2\u001b[39m\u001b[38;5;124m'\u001b[39m])\n\u001b[1;32m     16\u001b[0m \u001b[38;5;66;03m# Filter out self-pairs (where both IDs are the same)\u001b[39;00m\n\u001b[1;32m     17\u001b[0m pairs \u001b[38;5;241m=\u001b[39m pairs[pairs[\u001b[38;5;124mf\u001b[39m\u001b[38;5;124m'\u001b[39m\u001b[38;5;132;01m{\u001b[39;00mid_col\u001b[38;5;132;01m}\u001b[39;00m\u001b[38;5;124m_1\u001b[39m\u001b[38;5;124m'\u001b[39m] \u001b[38;5;241m!=\u001b[39m pairs[\u001b[38;5;124mf\u001b[39m\u001b[38;5;124m'\u001b[39m\u001b[38;5;132;01m{\u001b[39;00mid_col\u001b[38;5;132;01m}\u001b[39;00m\u001b[38;5;124m_2\u001b[39m\u001b[38;5;124m'\u001b[39m]]\u001b[38;5;241m.\u001b[39mreset_index(drop\u001b[38;5;241m=\u001b[39m\u001b[38;5;28;01mTrue\u001b[39;00m)\n",
      "\u001b[0;31mIndexError\u001b[0m: only integers, slices (`:`), ellipsis (`...`), numpy.newaxis (`None`) and integer or boolean arrays are valid indices"
     ]
    }
   ],
   "source": [
    "paired_data = create_county_pairs(scaled_data, id_col='id')"
   ]
  },
  {
   "cell_type": "code",
   "execution_count": null,
   "metadata": {},
   "outputs": [
    {
     "data": {
      "text/plain": [
       "9440256"
      ]
     },
     "execution_count": 8,
     "metadata": {},
     "output_type": "execute_result"
    }
   ],
   "source": [
    "len(paired_data)"
   ]
  },
  {
   "cell_type": "code",
   "execution_count": null,
   "metadata": {},
   "outputs": [
    {
     "ename": "NameError",
     "evalue": "name 'pd' is not defined",
     "output_type": "error",
     "traceback": [
      "\u001b[0;31m---------------------------------------------------------------------------\u001b[0m",
      "\u001b[0;31mNameError\u001b[0m                                 Traceback (most recent call last)",
      "Cell \u001b[0;32mIn[1], line 2\u001b[0m\n\u001b[1;32m      1\u001b[0m \u001b[38;5;66;03m# reconstruct the dataframe\u001b[39;00m\n\u001b[0;32m----> 2\u001b[0m final_df \u001b[38;5;241m=\u001b[39m \u001b[43mpd\u001b[49m\u001b[38;5;241m.\u001b[39mDataFrame(paired_data , columns\u001b[38;5;241m=\u001b[39mdata_cleaned\u001b[38;5;241m.\u001b[39mcolumns[\u001b[38;5;241m1\u001b[39m:])    \n\u001b[1;32m      3\u001b[0m final_df[\u001b[38;5;124m'\u001b[39m\u001b[38;5;124mState\u001b[39m\u001b[38;5;124m'\u001b[39m, \u001b[38;5;124m'\u001b[39m\u001b[38;5;124mFIPS\u001b[39m\u001b[38;5;124m'\u001b[39m, \u001b[38;5;124m'\u001b[39m\u001b[38;5;124mid\u001b[39m\u001b[38;5;124m'\u001b[39m] \u001b[38;5;241m=\u001b[39m data[[\u001b[38;5;124m'\u001b[39m\u001b[38;5;124mState\u001b[39m\u001b[38;5;124m'\u001b[39m, \u001b[38;5;124m'\u001b[39m\u001b[38;5;124mFIPS\u001b[39m\u001b[38;5;124m'\u001b[39m, \u001b[38;5;124m'\u001b[39m\u001b[38;5;124mid\u001b[39m\u001b[38;5;124m'\u001b[39m]]\n\u001b[1;32m      5\u001b[0m final_df\u001b[38;5;241m.\u001b[39mhead()\n",
      "\u001b[0;31mNameError\u001b[0m: name 'pd' is not defined"
     ]
    }
   ],
   "source": [
    "# reconstruct the dataframe\n",
    "final_df = pd.DataFrame(paired_data , columns=data_cleaned.columns[1:])    \n",
    "final_df['State', 'FIPS', 'id'] = data[['State', 'FIPS', 'id']]\n",
    "\n",
    "final_df.head()"
   ]
  },
  {
   "cell_type": "code",
   "execution_count": null,
   "metadata": {},
   "outputs": [],
   "source": [
    "final_df.to_csv('final_df.csv', index=False)"
   ]
  }
 ],
 "metadata": {
  "kernelspec": {
   "display_name": "CSE6242hw1",
   "language": "python",
   "name": "python3"
  },
  "language_info": {
   "codemirror_mode": {
    "name": "ipython",
    "version": 3
   },
   "file_extension": ".py",
   "mimetype": "text/x-python",
   "name": "python",
   "nbconvert_exporter": "python",
   "pygments_lexer": "ipython3",
   "version": "3.12.4"
  }
 },
 "nbformat": 4,
 "nbformat_minor": 2
}
