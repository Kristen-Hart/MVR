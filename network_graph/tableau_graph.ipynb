{
 "cells": [
  {
   "cell_type": "code",
   "execution_count": 16,
   "metadata": {},
   "outputs": [],
   "source": [
    "import networkx as nx\n",
    "import numpy as np\n",
    "import pandas as pd\n",
    "from pandas import DataFrame\n",
    "import sys"
   ]
  },
  {
   "cell_type": "code",
   "execution_count": 17,
   "metadata": {},
   "outputs": [],
   "source": [
    "top_pairs_path = \"/Users/judithyemeli/Documents/CSE_6242/Project/MVR/network_graph/inputs_data/top_similarity_pairs.csv\"\n",
    "# all_pairs_path = \"/Users/judithyemeli/Documents/CSE_6242/Project/MVR/network_graph/inputs_data/similarity_pairs.csv\"\n",
    "# high_sim_path = \"/Users/judithyemeli/Documents/CSE_6242/Project/MVR/network_graph/inputs_data/high_sim.csv\""
   ]
  },
  {
   "cell_type": "code",
   "execution_count": 18,
   "metadata": {},
   "outputs": [],
   "source": [
    "top_pairs_tableau = \"/Users/judithyemeli/Documents/CSE_6242/Project/MVR/network_graph/inputs_data/top_pairs_tableau.csv\""
   ]
  },
  {
   "cell_type": "code",
   "execution_count": 19,
   "metadata": {},
   "outputs": [
    {
     "data": {
      "text/html": [
       "<div>\n",
       "<style scoped>\n",
       "    .dataframe tbody tr th:only-of-type {\n",
       "        vertical-align: middle;\n",
       "    }\n",
       "\n",
       "    .dataframe tbody tr th {\n",
       "        vertical-align: top;\n",
       "    }\n",
       "\n",
       "    .dataframe thead th {\n",
       "        text-align: right;\n",
       "    }\n",
       "</style>\n",
       "<table border=\"1\" class=\"dataframe\">\n",
       "  <thead>\n",
       "    <tr style=\"text-align: right;\">\n",
       "      <th></th>\n",
       "      <th>Source ID</th>\n",
       "      <th>Target ID</th>\n",
       "      <th>similarity</th>\n",
       "      <th>id_A</th>\n",
       "      <th>county_code_A</th>\n",
       "      <th>county_name_A</th>\n",
       "      <th>state_code_A</th>\n",
       "      <th>state_name_A</th>\n",
       "      <th>id_B</th>\n",
       "      <th>county_code_B</th>\n",
       "      <th>county_name_B</th>\n",
       "      <th>state_code_B</th>\n",
       "      <th>state_name_B</th>\n",
       "      <th>category</th>\n",
       "    </tr>\n",
       "  </thead>\n",
       "  <tbody>\n",
       "    <tr>\n",
       "      <th>0</th>\n",
       "      <td>WV_005</td>\n",
       "      <td>WV_001</td>\n",
       "      <td>0.982010</td>\n",
       "      <td>WV_005</td>\n",
       "      <td>5</td>\n",
       "      <td>Boone County</td>\n",
       "      <td>54</td>\n",
       "      <td>West Virginia</td>\n",
       "      <td>WV_001</td>\n",
       "      <td>1</td>\n",
       "      <td>Barbour County</td>\n",
       "      <td>54</td>\n",
       "      <td>West Virginia</td>\n",
       "      <td>very similar</td>\n",
       "    </tr>\n",
       "    <tr>\n",
       "      <th>1</th>\n",
       "      <td>WV_001</td>\n",
       "      <td>WV_005</td>\n",
       "      <td>0.982010</td>\n",
       "      <td>WV_001</td>\n",
       "      <td>1</td>\n",
       "      <td>Barbour County</td>\n",
       "      <td>54</td>\n",
       "      <td>West Virginia</td>\n",
       "      <td>WV_005</td>\n",
       "      <td>5</td>\n",
       "      <td>Boone County</td>\n",
       "      <td>54</td>\n",
       "      <td>West Virginia</td>\n",
       "      <td>very similar</td>\n",
       "    </tr>\n",
       "    <tr>\n",
       "      <th>2</th>\n",
       "      <td>AR_003</td>\n",
       "      <td>MS_003</td>\n",
       "      <td>0.979938</td>\n",
       "      <td>AR_003</td>\n",
       "      <td>3</td>\n",
       "      <td>Ashley County</td>\n",
       "      <td>5</td>\n",
       "      <td>Arkansas</td>\n",
       "      <td>MS_003</td>\n",
       "      <td>3</td>\n",
       "      <td>Alcorn County</td>\n",
       "      <td>28</td>\n",
       "      <td>Mississippi</td>\n",
       "      <td>very similar</td>\n",
       "    </tr>\n",
       "    <tr>\n",
       "      <th>3</th>\n",
       "      <td>MS_003</td>\n",
       "      <td>AR_003</td>\n",
       "      <td>0.979938</td>\n",
       "      <td>MS_003</td>\n",
       "      <td>3</td>\n",
       "      <td>Alcorn County</td>\n",
       "      <td>28</td>\n",
       "      <td>Mississippi</td>\n",
       "      <td>AR_003</td>\n",
       "      <td>3</td>\n",
       "      <td>Ashley County</td>\n",
       "      <td>5</td>\n",
       "      <td>Arkansas</td>\n",
       "      <td>very similar</td>\n",
       "    </tr>\n",
       "    <tr>\n",
       "      <th>4</th>\n",
       "      <td>IA_009</td>\n",
       "      <td>IA_001</td>\n",
       "      <td>0.977880</td>\n",
       "      <td>IA_009</td>\n",
       "      <td>9</td>\n",
       "      <td>Audubon County</td>\n",
       "      <td>19</td>\n",
       "      <td>Iowa</td>\n",
       "      <td>IA_001</td>\n",
       "      <td>1</td>\n",
       "      <td>Adair County</td>\n",
       "      <td>19</td>\n",
       "      <td>Iowa</td>\n",
       "      <td>very similar</td>\n",
       "    </tr>\n",
       "  </tbody>\n",
       "</table>\n",
       "</div>"
      ],
      "text/plain": [
       "  Source ID Target ID  similarity    id_A  county_code_A   county_name_A  \\\n",
       "0    WV_005    WV_001    0.982010  WV_005              5    Boone County   \n",
       "1    WV_001    WV_005    0.982010  WV_001              1  Barbour County   \n",
       "2    AR_003    MS_003    0.979938  AR_003              3   Ashley County   \n",
       "3    MS_003    AR_003    0.979938  MS_003              3   Alcorn County   \n",
       "4    IA_009    IA_001    0.977880  IA_009              9  Audubon County   \n",
       "\n",
       "   state_code_A   state_name_A    id_B  county_code_B   county_name_B  \\\n",
       "0            54  West Virginia  WV_001              1  Barbour County   \n",
       "1            54  West Virginia  WV_005              5    Boone County   \n",
       "2             5       Arkansas  MS_003              3   Alcorn County   \n",
       "3            28    Mississippi  AR_003              3   Ashley County   \n",
       "4            19           Iowa  IA_001              1    Adair County   \n",
       "\n",
       "   state_code_B   state_name_B      category  \n",
       "0            54  West Virginia  very similar  \n",
       "1            54  West Virginia  very similar  \n",
       "2            28    Mississippi  very similar  \n",
       "3             5       Arkansas  very similar  \n",
       "4            19           Iowa  very similar  "
      ]
     },
     "execution_count": 19,
     "metadata": {},
     "output_type": "execute_result"
    }
   ],
   "source": [
    "df = pd.read_csv(top_pairs_path)\n",
    "df.head()"
   ]
  },
  {
   "cell_type": "code",
   "execution_count": 20,
   "metadata": {},
   "outputs": [
    {
     "data": {
      "text/plain": [
       "1608"
      ]
     },
     "execution_count": 20,
     "metadata": {},
     "output_type": "execute_result"
    }
   ],
   "source": [
    "len(df)"
   ]
  },
  {
   "cell_type": "code",
   "execution_count": 36,
   "metadata": {},
   "outputs": [],
   "source": [
    "# df.rename(columns={'id_1': 'Source ID', 'id_2': 'Target ID'}, inplace=True)"
   ]
  },
  {
   "cell_type": "code",
   "execution_count": 21,
   "metadata": {},
   "outputs": [],
   "source": [
    "# Read in Source File - NB this must match the schema requirements\n",
    "\n",
    "df_InputData = df #\n",
    "Src_Column = 'Source ID'\n",
    "Tgt_Column = 'Target ID'"
   ]
  },
  {
   "cell_type": "code",
   "execution_count": 22,
   "metadata": {},
   "outputs": [],
   "source": [
    "#Nodes are positioned using the Fruchterman-Reingold force-directed algorithm.\n",
    "\n",
    "Q = nx.Graph()\n",
    "arr_SrcTgt= np.array(df_InputData[[Src_Column, Tgt_Column]])\n",
    "Q.add_edges_from(arr_SrcTgt)\n",
    "dict_Coords = nx.spring_layout(Q)\n",
    "\n",
    "df_Raw_Coords = DataFrame(dict_Coords)\n",
    "df_Raw_Coords = df_Raw_Coords.T\n",
    "df_Raw_Coords.columns = ['X','Y']\n",
    "df_Raw_Coords['NodeName'] = df_Raw_Coords.index\n",
    "\n",
    "#Add in a \"Node Name\" for cases where nodes do not link with another named node\n",
    "\n",
    "df_Raw_Coords.fillna(\"Not Specified\", inplace = True)"
   ]
  },
  {
   "cell_type": "code",
   "execution_count": 24,
   "metadata": {},
   "outputs": [],
   "source": [
    "#Create bridge between main dataset and coordinates\n",
    "\n",
    "arr_SrcTgt2 = arr_SrcTgt.reshape(1,(len(arr_SrcTgt)*2))\n",
    "arr_SrcTgt2 = arr_SrcTgt2.reshape(-1)\n",
    "df_SrcTgt = DataFrame(arr_SrcTgt2,columns=['NodeName'])\n",
    "arr_Index = []\n",
    "for i in range(1,(len(arr_SrcTgt)+1)):\n",
    "        arr_Index.append(i)\n",
    "        arr_Index.append(i)\n",
    "df_SrcTgt['c_Index'] = arr_Index\n",
    "\n",
    "#Join the datasets\n",
    "\n",
    "df_InputData.index = df_InputData.index + 1\n",
    "\n",
    "Merge_1 = pd.merge(\n",
    "    left=df_SrcTgt,\n",
    "    right=df_InputData,\n",
    "    how=\"inner\",\n",
    "    left_on=df_SrcTgt['c_Index'],\n",
    "    right_index=True,\n",
    ")\n",
    "\n",
    "df_MainDat = DataFrame(Merge_1)\n",
    "df_MainDat = df_MainDat.drop(columns=['key_0'])\n",
    "\n",
    "Merge_2 = pd.merge(\n",
    "    left=df_Raw_Coords,\n",
    "    right=df_MainDat,\n",
    "    how=\"left\",\n",
    "    left_on=df_Raw_Coords['NodeName'],\n",
    "    right_on=df_MainDat['NodeName'],\n",
    "    suffixes=(\"\", \"_y\"),\n",
    ")\n",
    "\n",
    "df_finaldat = DataFrame(Merge_2)\n",
    "df_finaldat = df_finaldat.drop(columns=['key_0','NodeName_y'])"
   ]
  },
  {
   "cell_type": "code",
   "execution_count": 13,
   "metadata": {},
   "outputs": [
    {
     "name": "stdout",
     "output_type": "stream",
     "text": [
      "Collecting openpyxl\n",
      "  Downloading openpyxl-3.1.5-py2.py3-none-any.whl.metadata (2.5 kB)\n",
      "Collecting et-xmlfile (from openpyxl)\n",
      "  Downloading et_xmlfile-2.0.0-py3-none-any.whl.metadata (2.7 kB)\n",
      "Downloading openpyxl-3.1.5-py2.py3-none-any.whl (250 kB)\n",
      "Downloading et_xmlfile-2.0.0-py3-none-any.whl (18 kB)\n",
      "Installing collected packages: et-xmlfile, openpyxl\n",
      "Successfully installed et-xmlfile-2.0.0 openpyxl-3.1.5\n"
     ]
    }
   ],
   "source": [
    "! pip install openpyxl"
   ]
  },
  {
   "cell_type": "code",
   "execution_count": 26,
   "metadata": {},
   "outputs": [],
   "source": [
    "df_finaldat.to_excel(\"Network Data_high_sim_tableau.xlsx\", sheet_name='Network')"
   ]
  }
 ],
 "metadata": {
  "kernelspec": {
   "display_name": "CSE6242hw1",
   "language": "python",
   "name": "python3"
  },
  "language_info": {
   "codemirror_mode": {
    "name": "ipython",
    "version": 3
   },
   "file_extension": ".py",
   "mimetype": "text/x-python",
   "name": "python",
   "nbconvert_exporter": "python",
   "pygments_lexer": "ipython3",
   "version": "3.12.4"
  }
 },
 "nbformat": 4,
 "nbformat_minor": 2
}
