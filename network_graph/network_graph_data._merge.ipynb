{
 "cells": [
  {
   "cell_type": "markdown",
   "metadata": {},
   "source": [
    "# Graph network analysis and visualization code for CSE6242 group project"
   ]
  },
  {
   "cell_type": "code",
   "execution_count": 1,
   "metadata": {},
   "outputs": [],
   "source": [
    "import pandas as pd"
   ]
  },
  {
   "cell_type": "markdown",
   "metadata": {},
   "source": [
    "## Part 1: Migration data"
   ]
  },
  {
   "cell_type": "markdown",
   "metadata": {},
   "source": [
    "``` markdown\n",
    "- rename the key attributes to state either inflow or outflow\n",
    "- Group by county name and sum attributes (returs, individuals and gross income)\n",
    "- Merge both inflow and outflow as a single dataset: merged_migration"
   ]
  },
  {
   "cell_type": "code",
   "execution_count": 2,
   "metadata": {},
   "outputs": [],
   "source": [
    "inflow = pd.read_csv('/Users/judithyemeli/Documents/CSE_6242/Project/MVR/Network_graph_analysis/cleaned_countyinflow.csv')\n",
    "outflow = pd.read_csv('/Users/judithyemeli/Documents/CSE_6242/Project/MVR/Network_graph_analysis/cleaned_countyoutflow.csv')"
   ]
  },
  {
   "cell_type": "code",
   "execution_count": 3,
   "metadata": {},
   "outputs": [
    {
     "data": {
      "text/html": [
       "<div>\n",
       "<style scoped>\n",
       "    .dataframe tbody tr th:only-of-type {\n",
       "        vertical-align: middle;\n",
       "    }\n",
       "\n",
       "    .dataframe tbody tr th {\n",
       "        vertical-align: top;\n",
       "    }\n",
       "\n",
       "    .dataframe thead th {\n",
       "        text-align: right;\n",
       "    }\n",
       "</style>\n",
       "<table border=\"1\" class=\"dataframe\">\n",
       "  <thead>\n",
       "    <tr style=\"text-align: right;\">\n",
       "      <th></th>\n",
       "      <th>year</th>\n",
       "      <th>destination_state_fips</th>\n",
       "      <th>destination_county_fips</th>\n",
       "      <th>origin_state_fips</th>\n",
       "      <th>origin_county_fips</th>\n",
       "      <th>y2_fips</th>\n",
       "      <th>y1_fips</th>\n",
       "      <th>y1_state</th>\n",
       "      <th>y1_countyname</th>\n",
       "      <th>num_returns</th>\n",
       "      <th>num_individuals</th>\n",
       "      <th>adjusted_gross_income</th>\n",
       "    </tr>\n",
       "  </thead>\n",
       "  <tbody>\n",
       "    <tr>\n",
       "      <th>0</th>\n",
       "      <td>16-17</td>\n",
       "      <td>1</td>\n",
       "      <td>0</td>\n",
       "      <td>96</td>\n",
       "      <td>0</td>\n",
       "      <td>1000</td>\n",
       "      <td>96000</td>\n",
       "      <td>AL</td>\n",
       "      <td>Total Migration-US and Foreign</td>\n",
       "      <td>130855</td>\n",
       "      <td>273891</td>\n",
       "      <td>7058182</td>\n",
       "    </tr>\n",
       "    <tr>\n",
       "      <th>1</th>\n",
       "      <td>16-17</td>\n",
       "      <td>1</td>\n",
       "      <td>0</td>\n",
       "      <td>97</td>\n",
       "      <td>0</td>\n",
       "      <td>1000</td>\n",
       "      <td>97000</td>\n",
       "      <td>AL</td>\n",
       "      <td>Total Migration-US</td>\n",
       "      <td>130235</td>\n",
       "      <td>272345</td>\n",
       "      <td>7022706</td>\n",
       "    </tr>\n",
       "    <tr>\n",
       "      <th>2</th>\n",
       "      <td>16-17</td>\n",
       "      <td>1</td>\n",
       "      <td>0</td>\n",
       "      <td>97</td>\n",
       "      <td>1</td>\n",
       "      <td>1000</td>\n",
       "      <td>97001</td>\n",
       "      <td>AL</td>\n",
       "      <td>Total Migration-Same State</td>\n",
       "      <td>71530</td>\n",
       "      <td>148378</td>\n",
       "      <td>3510398</td>\n",
       "    </tr>\n",
       "  </tbody>\n",
       "</table>\n",
       "</div>"
      ],
      "text/plain": [
       "    year  destination_state_fips  destination_county_fips  origin_state_fips  \\\n",
       "0  16-17                       1                        0                 96   \n",
       "1  16-17                       1                        0                 97   \n",
       "2  16-17                       1                        0                 97   \n",
       "\n",
       "   origin_county_fips  y2_fips  y1_fips y1_state  \\\n",
       "0                   0     1000    96000       AL   \n",
       "1                   0     1000    97000       AL   \n",
       "2                   1     1000    97001       AL   \n",
       "\n",
       "                    y1_countyname  num_returns  num_individuals  \\\n",
       "0  Total Migration-US and Foreign       130855           273891   \n",
       "1              Total Migration-US       130235           272345   \n",
       "2      Total Migration-Same State        71530           148378   \n",
       "\n",
       "   adjusted_gross_income  \n",
       "0                7058182  \n",
       "1                7022706  \n",
       "2                3510398  "
      ]
     },
     "execution_count": 3,
     "metadata": {},
     "output_type": "execute_result"
    }
   ],
   "source": [
    "inflow.head(3)"
   ]
  },
  {
   "cell_type": "code",
   "execution_count": 4,
   "metadata": {},
   "outputs": [
    {
     "data": {
      "text/html": [
       "<div>\n",
       "<style scoped>\n",
       "    .dataframe tbody tr th:only-of-type {\n",
       "        vertical-align: middle;\n",
       "    }\n",
       "\n",
       "    .dataframe tbody tr th {\n",
       "        vertical-align: top;\n",
       "    }\n",
       "\n",
       "    .dataframe thead th {\n",
       "        text-align: right;\n",
       "    }\n",
       "</style>\n",
       "<table border=\"1\" class=\"dataframe\">\n",
       "  <thead>\n",
       "    <tr style=\"text-align: right;\">\n",
       "      <th></th>\n",
       "      <th>year</th>\n",
       "      <th>origin_state_fips</th>\n",
       "      <th>origin_county_fips</th>\n",
       "      <th>destination_state_fips</th>\n",
       "      <th>destination_county_fips</th>\n",
       "      <th>y1fips</th>\n",
       "      <th>y2fips</th>\n",
       "      <th>y2_state</th>\n",
       "      <th>y2_countyname</th>\n",
       "      <th>num_returns</th>\n",
       "      <th>num_individuals</th>\n",
       "      <th>adjusted_gross_income</th>\n",
       "    </tr>\n",
       "  </thead>\n",
       "  <tbody>\n",
       "    <tr>\n",
       "      <th>0</th>\n",
       "      <td>16-17</td>\n",
       "      <td>1</td>\n",
       "      <td>1</td>\n",
       "      <td>1</td>\n",
       "      <td>1</td>\n",
       "      <td>1001</td>\n",
       "      <td>1001</td>\n",
       "      <td>AL</td>\n",
       "      <td>Autauga County Non-migrants</td>\n",
       "      <td>17484</td>\n",
       "      <td>39711</td>\n",
       "      <td>1106647</td>\n",
       "    </tr>\n",
       "    <tr>\n",
       "      <th>1</th>\n",
       "      <td>16-17</td>\n",
       "      <td>1</td>\n",
       "      <td>21</td>\n",
       "      <td>1</td>\n",
       "      <td>1</td>\n",
       "      <td>1021</td>\n",
       "      <td>1001</td>\n",
       "      <td>AL</td>\n",
       "      <td>Autauga County</td>\n",
       "      <td>83</td>\n",
       "      <td>220</td>\n",
       "      <td>3006</td>\n",
       "    </tr>\n",
       "    <tr>\n",
       "      <th>2</th>\n",
       "      <td>16-17</td>\n",
       "      <td>1</td>\n",
       "      <td>47</td>\n",
       "      <td>1</td>\n",
       "      <td>1</td>\n",
       "      <td>1047</td>\n",
       "      <td>1001</td>\n",
       "      <td>AL</td>\n",
       "      <td>Autauga County</td>\n",
       "      <td>82</td>\n",
       "      <td>195</td>\n",
       "      <td>2917</td>\n",
       "    </tr>\n",
       "  </tbody>\n",
       "</table>\n",
       "</div>"
      ],
      "text/plain": [
       "    year  origin_state_fips  origin_county_fips  destination_state_fips  \\\n",
       "0  16-17                  1                   1                       1   \n",
       "1  16-17                  1                  21                       1   \n",
       "2  16-17                  1                  47                       1   \n",
       "\n",
       "   destination_county_fips  y1fips  y2fips y2_state  \\\n",
       "0                        1    1001    1001       AL   \n",
       "1                        1    1021    1001       AL   \n",
       "2                        1    1047    1001       AL   \n",
       "\n",
       "                 y2_countyname  num_returns  num_individuals  \\\n",
       "0  Autauga County Non-migrants        17484            39711   \n",
       "1               Autauga County           83              220   \n",
       "2               Autauga County           82              195   \n",
       "\n",
       "   adjusted_gross_income  \n",
       "0                1106647  \n",
       "1                   3006  \n",
       "2                   2917  "
      ]
     },
     "execution_count": 4,
     "metadata": {},
     "output_type": "execute_result"
    }
   ],
   "source": [
    "outflow.head(3)"
   ]
  },
  {
   "cell_type": "code",
   "execution_count": 5,
   "metadata": {},
   "outputs": [
    {
     "data": {
      "text/plain": [
       "447970"
      ]
     },
     "execution_count": 5,
     "metadata": {},
     "output_type": "execute_result"
    }
   ],
   "source": [
    "len(inflow)"
   ]
  },
  {
   "cell_type": "markdown",
   "metadata": {},
   "source": [
    "``` markdown\n",
    "From both datasets, the columns carrying information are returns, individuas and gross income.\n",
    "Renaming those attributes is required to ensure they are distict after merging."
   ]
  },
  {
   "cell_type": "code",
   "execution_count": 6,
   "metadata": {},
   "outputs": [],
   "source": [
    "# rename the key attributes to state either inflow or outflow\n",
    "inflow_attributes_dict = {'num_returns': 'in_return', 'num_individuals': 'in_individuals', 'adjusted_gross_income': 'in_gross_income'}\n",
    "outflow_attributes_dict = {'num_returns': 'out_return', 'num_individuals': 'out_individuals', 'adjusted_gross_income': 'out_gross_income'}"
   ]
  },
  {
   "cell_type": "code",
   "execution_count": 7,
   "metadata": {},
   "outputs": [],
   "source": [
    "inflow.rename(columns=inflow_attributes_dict, inplace=True)\n",
    "outflow.rename(columns=outflow_attributes_dict, inplace=True)"
   ]
  },
  {
   "cell_type": "markdown",
   "metadata": {},
   "source": [
    "``` markdown\n",
    "Grouping each dataset to have a single line for each county. The aggregation method is sum across the ckey attributes idenfified earlier."
   ]
  },
  {
   "cell_type": "code",
   "execution_count": 8,
   "metadata": {},
   "outputs": [
    {
     "data": {
      "text/html": [
       "<div>\n",
       "<style scoped>\n",
       "    .dataframe tbody tr th:only-of-type {\n",
       "        vertical-align: middle;\n",
       "    }\n",
       "\n",
       "    .dataframe tbody tr th {\n",
       "        vertical-align: top;\n",
       "    }\n",
       "\n",
       "    .dataframe thead th {\n",
       "        text-align: right;\n",
       "    }\n",
       "</style>\n",
       "<table border=\"1\" class=\"dataframe\">\n",
       "  <thead>\n",
       "    <tr style=\"text-align: right;\">\n",
       "      <th></th>\n",
       "      <th>y1_state</th>\n",
       "      <th>origin_county_fips</th>\n",
       "      <th>in_return</th>\n",
       "      <th>in_individuals</th>\n",
       "      <th>in_gross_income</th>\n",
       "    </tr>\n",
       "  </thead>\n",
       "  <tbody>\n",
       "    <tr>\n",
       "      <th>0</th>\n",
       "      <td>AK</td>\n",
       "      <td>0</td>\n",
       "      <td>306337</td>\n",
       "      <td>598585</td>\n",
       "      <td>17297723</td>\n",
       "    </tr>\n",
       "    <tr>\n",
       "      <th>1</th>\n",
       "      <td>AK</td>\n",
       "      <td>1</td>\n",
       "      <td>48135</td>\n",
       "      <td>91368</td>\n",
       "      <td>2847809</td>\n",
       "    </tr>\n",
       "    <tr>\n",
       "      <th>2</th>\n",
       "      <td>AK</td>\n",
       "      <td>3</td>\n",
       "      <td>102323</td>\n",
       "      <td>201584</td>\n",
       "      <td>5664784</td>\n",
       "    </tr>\n",
       "  </tbody>\n",
       "</table>\n",
       "</div>"
      ],
      "text/plain": [
       "  y1_state  origin_county_fips  in_return  in_individuals  in_gross_income\n",
       "0       AK                   0     306337          598585         17297723\n",
       "1       AK                   1      48135           91368          2847809\n",
       "2       AK                   3     102323          201584          5664784"
      ]
     },
     "execution_count": 8,
     "metadata": {},
     "output_type": "execute_result"
    }
   ],
   "source": [
    "grouped_inflow = inflow.groupby(by= ['y1_state','origin_county_fips'])[['in_return', 'in_individuals', 'in_gross_income']].sum().reset_index()\n",
    "grouped_inflow.head(3)"
   ]
  },
  {
   "cell_type": "code",
   "execution_count": 9,
   "metadata": {},
   "outputs": [
    {
     "data": {
      "text/html": [
       "<div>\n",
       "<style scoped>\n",
       "    .dataframe tbody tr th:only-of-type {\n",
       "        vertical-align: middle;\n",
       "    }\n",
       "\n",
       "    .dataframe tbody tr th {\n",
       "        vertical-align: top;\n",
       "    }\n",
       "\n",
       "    .dataframe thead th {\n",
       "        text-align: right;\n",
       "    }\n",
       "</style>\n",
       "<table border=\"1\" class=\"dataframe\">\n",
       "  <thead>\n",
       "    <tr style=\"text-align: right;\">\n",
       "      <th></th>\n",
       "      <th>y2_state</th>\n",
       "      <th>destination_county_fips</th>\n",
       "      <th>out_return</th>\n",
       "      <th>out_individuals</th>\n",
       "      <th>out_gross_income</th>\n",
       "    </tr>\n",
       "  </thead>\n",
       "  <tbody>\n",
       "    <tr>\n",
       "      <th>0</th>\n",
       "      <td>AK</td>\n",
       "      <td>0</td>\n",
       "      <td>364248</td>\n",
       "      <td>733000</td>\n",
       "      <td>22577044</td>\n",
       "    </tr>\n",
       "    <tr>\n",
       "      <th>1</th>\n",
       "      <td>AK</td>\n",
       "      <td>1</td>\n",
       "      <td>48217</td>\n",
       "      <td>91547</td>\n",
       "      <td>2853137</td>\n",
       "    </tr>\n",
       "    <tr>\n",
       "      <th>2</th>\n",
       "      <td>AK</td>\n",
       "      <td>3</td>\n",
       "      <td>131234</td>\n",
       "      <td>269101</td>\n",
       "      <td>8294827</td>\n",
       "    </tr>\n",
       "  </tbody>\n",
       "</table>\n",
       "</div>"
      ],
      "text/plain": [
       "  y2_state  destination_county_fips  out_return  out_individuals  \\\n",
       "0       AK                        0      364248           733000   \n",
       "1       AK                        1       48217            91547   \n",
       "2       AK                        3      131234           269101   \n",
       "\n",
       "   out_gross_income  \n",
       "0          22577044  \n",
       "1           2853137  \n",
       "2           8294827  "
      ]
     },
     "execution_count": 9,
     "metadata": {},
     "output_type": "execute_result"
    }
   ],
   "source": [
    "grouped_outflow= outflow.groupby(by= ['y2_state','destination_county_fips'])[['out_return', 'out_individuals', 'out_gross_income']].sum().reset_index()\n",
    "grouped_outflow.head(3)"
   ]
  },
  {
   "cell_type": "code",
   "execution_count": 10,
   "metadata": {},
   "outputs": [
    {
     "name": "stdout",
     "output_type": "stream",
     "text": [
      "lenght of grouped inflow:  3209\n",
      "lenght of grouped outflow:  3209\n"
     ]
    }
   ],
   "source": [
    "print(f\"lenght of grouped inflow: \",len(grouped_inflow))\n",
    "print(f\"lenght of grouped outflow: \",len(grouped_outflow))"
   ]
  },
  {
   "cell_type": "code",
   "execution_count": 11,
   "metadata": {},
   "outputs": [
    {
     "name": "stdout",
     "output_type": "stream",
     "text": [
      "3209\n"
     ]
    },
    {
     "data": {
      "text/plain": [
       "y1_state                   0\n",
       "origin_county_fips         0\n",
       "in_return                  0\n",
       "in_individuals             0\n",
       "in_gross_income            0\n",
       "y2_state                   0\n",
       "destination_county_fips    0\n",
       "out_return                 0\n",
       "out_individuals            0\n",
       "out_gross_income           0\n",
       "dtype: int64"
      ]
     },
     "execution_count": 11,
     "metadata": {},
     "output_type": "execute_result"
    }
   ],
   "source": [
    "merged_migration = grouped_inflow.merge(grouped_outflow, left_on=['y1_state', 'origin_county_fips'],  right_on=['y2_state','destination_county_fips'], how='inner')\n",
    "print(len(merged_migration))\n",
    "merged_migration.isna().sum()"
   ]
  },
  {
   "cell_type": "code",
   "execution_count": 12,
   "metadata": {},
   "outputs": [],
   "source": [
    "cols_to_keep = ['y2_state', 'origin_county_fips', 'in_return', 'in_individuals', 'in_gross_income', 'out_return', 'out_individuals', 'out_gross_income']\n",
    "col_to_rename = {'y2_state': 'State', 'origin_county_fips': 'FIPS'}"
   ]
  },
  {
   "cell_type": "code",
   "execution_count": 13,
   "metadata": {},
   "outputs": [],
   "source": [
    "merged_migration = merged_migration[cols_to_keep]\n",
    "merged_migration.rename(columns=col_to_rename, inplace=True)"
   ]
  },
  {
   "cell_type": "markdown",
   "metadata": {},
   "source": [
    "## Part 2: House pricing"
   ]
  },
  {
   "cell_type": "markdown",
   "metadata": {},
   "source": [
    "``` markdown\n",
    "- Clean up the county idenfiers\n",
    "- Calcule the net change by county between  2000 and 2024 (net_housing_price_change)\n",
    "- Extract the current house price as 2024 (2024_house_price)\n",
    "- Merge with migration data"
   ]
  },
  {
   "cell_type": "code",
   "execution_count": 14,
   "metadata": {},
   "outputs": [],
   "source": [
    "house_pricing = pd.read_csv('/Users/judithyemeli/Documents/CSE_6242/Project/MVR/Network_graph_analysis/Zillow_Data_Yearly_FIPS.csv')"
   ]
  },
  {
   "cell_type": "code",
   "execution_count": 15,
   "metadata": {},
   "outputs": [
    {
     "data": {
      "text/html": [
       "<div>\n",
       "<style scoped>\n",
       "    .dataframe tbody tr th:only-of-type {\n",
       "        vertical-align: middle;\n",
       "    }\n",
       "\n",
       "    .dataframe tbody tr th {\n",
       "        vertical-align: top;\n",
       "    }\n",
       "\n",
       "    .dataframe thead th {\n",
       "        text-align: right;\n",
       "    }\n",
       "</style>\n",
       "<table border=\"1\" class=\"dataframe\">\n",
       "  <thead>\n",
       "    <tr style=\"text-align: right;\">\n",
       "      <th></th>\n",
       "      <th>FIPS</th>\n",
       "      <th>RegionName</th>\n",
       "      <th>State</th>\n",
       "      <th>FIPS.1</th>\n",
       "      <th>2000</th>\n",
       "      <th>2001</th>\n",
       "      <th>2002</th>\n",
       "      <th>2003</th>\n",
       "      <th>2004</th>\n",
       "      <th>2005</th>\n",
       "      <th>...</th>\n",
       "      <th>2015</th>\n",
       "      <th>2016</th>\n",
       "      <th>2017</th>\n",
       "      <th>2018</th>\n",
       "      <th>2019</th>\n",
       "      <th>2020</th>\n",
       "      <th>2021</th>\n",
       "      <th>2022</th>\n",
       "      <th>2023</th>\n",
       "      <th>2024</th>\n",
       "    </tr>\n",
       "  </thead>\n",
       "  <tbody>\n",
       "    <tr>\n",
       "      <th>0</th>\n",
       "      <td>2020</td>\n",
       "      <td>Anchorage Borough</td>\n",
       "      <td>AK</td>\n",
       "      <td>2020</td>\n",
       "      <td>146144.3161</td>\n",
       "      <td>169973.1478</td>\n",
       "      <td>186475.8294</td>\n",
       "      <td>195969.8382</td>\n",
       "      <td>209724.6331</td>\n",
       "      <td>229868.8594</td>\n",
       "      <td>...</td>\n",
       "      <td>304919.1673</td>\n",
       "      <td>311721.6694</td>\n",
       "      <td>310289.3725</td>\n",
       "      <td>312758.8579</td>\n",
       "      <td>330962.7465</td>\n",
       "      <td>338964.0436</td>\n",
       "      <td>344423.7324</td>\n",
       "      <td>365491.1856</td>\n",
       "      <td>377498.0278</td>\n",
       "      <td>384018.9248</td>\n",
       "    </tr>\n",
       "    <tr>\n",
       "      <th>1</th>\n",
       "      <td>2090</td>\n",
       "      <td>Fairbanks North Star Borough</td>\n",
       "      <td>AK</td>\n",
       "      <td>2090</td>\n",
       "      <td>NaN</td>\n",
       "      <td>NaN</td>\n",
       "      <td>NaN</td>\n",
       "      <td>NaN</td>\n",
       "      <td>NaN</td>\n",
       "      <td>188322.2179</td>\n",
       "      <td>...</td>\n",
       "      <td>225121.4489</td>\n",
       "      <td>233876.6726</td>\n",
       "      <td>243537.0955</td>\n",
       "      <td>252751.3460</td>\n",
       "      <td>265862.9022</td>\n",
       "      <td>277602.7961</td>\n",
       "      <td>285834.8267</td>\n",
       "      <td>300548.1123</td>\n",
       "      <td>296752.7637</td>\n",
       "      <td>301036.6606</td>\n",
       "    </tr>\n",
       "    <tr>\n",
       "      <th>2</th>\n",
       "      <td>2100</td>\n",
       "      <td>Haines Borough</td>\n",
       "      <td>AK</td>\n",
       "      <td>2100</td>\n",
       "      <td>NaN</td>\n",
       "      <td>NaN</td>\n",
       "      <td>NaN</td>\n",
       "      <td>NaN</td>\n",
       "      <td>NaN</td>\n",
       "      <td>NaN</td>\n",
       "      <td>...</td>\n",
       "      <td>NaN</td>\n",
       "      <td>NaN</td>\n",
       "      <td>NaN</td>\n",
       "      <td>NaN</td>\n",
       "      <td>NaN</td>\n",
       "      <td>NaN</td>\n",
       "      <td>284891.8249</td>\n",
       "      <td>315908.7940</td>\n",
       "      <td>298008.7765</td>\n",
       "      <td>294193.3742</td>\n",
       "    </tr>\n",
       "  </tbody>\n",
       "</table>\n",
       "<p>3 rows × 29 columns</p>\n",
       "</div>"
      ],
      "text/plain": [
       "   FIPS                    RegionName State  FIPS.1         2000         2001  \\\n",
       "0  2020             Anchorage Borough    AK    2020  146144.3161  169973.1478   \n",
       "1  2090  Fairbanks North Star Borough    AK    2090          NaN          NaN   \n",
       "2  2100                Haines Borough    AK    2100          NaN          NaN   \n",
       "\n",
       "          2002         2003         2004         2005  ...         2015  \\\n",
       "0  186475.8294  195969.8382  209724.6331  229868.8594  ...  304919.1673   \n",
       "1          NaN          NaN          NaN  188322.2179  ...  225121.4489   \n",
       "2          NaN          NaN          NaN          NaN  ...          NaN   \n",
       "\n",
       "          2016         2017         2018         2019         2020  \\\n",
       "0  311721.6694  310289.3725  312758.8579  330962.7465  338964.0436   \n",
       "1  233876.6726  243537.0955  252751.3460  265862.9022  277602.7961   \n",
       "2          NaN          NaN          NaN          NaN          NaN   \n",
       "\n",
       "          2021         2022         2023         2024  \n",
       "0  344423.7324  365491.1856  377498.0278  384018.9248  \n",
       "1  285834.8267  300548.1123  296752.7637  301036.6606  \n",
       "2  284891.8249  315908.7940  298008.7765  294193.3742  \n",
       "\n",
       "[3 rows x 29 columns]"
      ]
     },
     "execution_count": 15,
     "metadata": {},
     "output_type": "execute_result"
    }
   ],
   "source": [
    "house_pricing.head(3)   "
   ]
  },
  {
   "cell_type": "code",
   "execution_count": 16,
   "metadata": {},
   "outputs": [
    {
     "data": {
      "text/plain": [
       "FIPS             0\n",
       "RegionName       0\n",
       "State            0\n",
       "FIPS.1           0\n",
       "2000          2020\n",
       "2001          1979\n",
       "2002          1938\n",
       "2003          1880\n",
       "2004          1837\n",
       "2005          1788\n",
       "2006          1758\n",
       "2007          1704\n",
       "2008          1634\n",
       "2009          1059\n",
       "2010           985\n",
       "2011           921\n",
       "2012           647\n",
       "2013           597\n",
       "2014           560\n",
       "2015           529\n",
       "2016           101\n",
       "2017            94\n",
       "2018            86\n",
       "2019            68\n",
       "2020            63\n",
       "2021            51\n",
       "2022            12\n",
       "2023             2\n",
       "2024             0\n",
       "dtype: int64"
      ]
     },
     "execution_count": 16,
     "metadata": {},
     "output_type": "execute_result"
    }
   ],
   "source": [
    "house_pricing.isna().sum()"
   ]
  },
  {
   "cell_type": "code",
   "execution_count": 17,
   "metadata": {},
   "outputs": [],
   "source": [
    "cols_to_fillna = ['2000','2001','2002','2003','2004','2005','2006','2007','2008','2009','2010','2011','2012','2013','2014','2015','2016','2017','2018','2019','2020','2021','2022','2023','2024'] \n",
    "n = int(len(cols_to_fillna)/2) # first half of the columns are years_min and the second half are years_max\n",
    "cols_years_min = cols_to_fillna[:n]\n",
    "cols_years_max = cols_to_fillna[n:]\n"
   ]
  },
  {
   "cell_type": "code",
   "execution_count": 18,
   "metadata": {},
   "outputs": [
    {
     "data": {
      "text/plain": [
       "FIPS          0\n",
       "RegionName    0\n",
       "State         0\n",
       "FIPS.1        0\n",
       "2000          0\n",
       "2001          0\n",
       "2002          0\n",
       "2003          0\n",
       "2004          0\n",
       "2005          0\n",
       "2006          0\n",
       "2007          0\n",
       "2008          0\n",
       "2009          0\n",
       "2010          0\n",
       "2011          0\n",
       "2012          0\n",
       "2013          0\n",
       "2014          0\n",
       "2015          0\n",
       "2016          0\n",
       "2017          0\n",
       "2018          0\n",
       "2019          0\n",
       "2020          0\n",
       "2021          0\n",
       "2022          0\n",
       "2023          0\n",
       "2024          0\n",
       "dtype: int64"
      ]
     },
     "execution_count": 18,
     "metadata": {},
     "output_type": "execute_result"
    }
   ],
   "source": [
    "house_pricing[cols_to_fillna] = house_pricing[cols_to_fillna].fillna(house_pricing[cols_to_fillna].mean())  \n",
    "house_pricing.isna().sum()"
   ]
  },
  {
   "cell_type": "code",
   "execution_count": 19,
   "metadata": {},
   "outputs": [],
   "source": [
    "house_pricing['house_index'] = house_pricing[cols_years_max].mean(axis=1)  - house_pricing[cols_years_min].mean(axis=1) \n",
    "house_pricing['housing_avg_value'] = house_pricing['2024']"
   ]
  },
  {
   "cell_type": "code",
   "execution_count": 20,
   "metadata": {},
   "outputs": [],
   "source": [
    "# house_pricing_al = house_pricing[house_pricing['State'] == 'AL']\n",
    "# house_pricing_al['FIPS'].unique()"
   ]
  },
  {
   "cell_type": "code",
   "execution_count": 21,
   "metadata": {},
   "outputs": [],
   "source": [
    "# defining a function to format the house_pricing data to be the same as the merged migration \n",
    "def county_code_reformat(value):\n",
    "        # ensure the value is a string\n",
    "        num_str = str(value)\n",
    "        num_str = num_str[-3:]\n",
    "            # check if the new first character is zero\n",
    "        if num_str[0] == '0':\n",
    "            # remove the zero\n",
    "            num_str = num_str[1:]\n",
    "            # repeat\n",
    "            if num_str[0] == '0':\n",
    "                num_str = num_str[1:]\n",
    "                return int(num_str)\n",
    "            else:\n",
    "                 return int(num_str)\n",
    "        else:\n",
    "             return int(num_str)"
   ]
  },
  {
   "cell_type": "code",
   "execution_count": 22,
   "metadata": {},
   "outputs": [
    {
     "name": "stdout",
     "output_type": "stream",
     "text": [
      "Number of null values in short_county_code column: 0\n"
     ]
    }
   ],
   "source": [
    "house_pricing['short_county_code'] = house_pricing['FIPS'].apply(county_code_reformat) \n",
    "null_values = house_pricing['short_county_code'].isnull().sum()\n",
    "print(f\"Number of null values in short_county_code column: {null_values}\")"
   ]
  },
  {
   "cell_type": "code",
   "execution_count": 23,
   "metadata": {},
   "outputs": [
    {
     "data": {
      "text/plain": [
       "FIPS                 0\n",
       "RegionName           0\n",
       "State                0\n",
       "FIPS.1               0\n",
       "2000                 0\n",
       "2001                 0\n",
       "2002                 0\n",
       "2003                 0\n",
       "2004                 0\n",
       "2005                 0\n",
       "2006                 0\n",
       "2007                 0\n",
       "2008                 0\n",
       "2009                 0\n",
       "2010                 0\n",
       "2011                 0\n",
       "2012                 0\n",
       "2013                 0\n",
       "2014                 0\n",
       "2015                 0\n",
       "2016                 0\n",
       "2017                 0\n",
       "2018                 0\n",
       "2019                 0\n",
       "2020                 0\n",
       "2021                 0\n",
       "2022                 0\n",
       "2023                 0\n",
       "2024                 0\n",
       "house_index          0\n",
       "housing_avg_value    0\n",
       "short_county_code    0\n",
       "dtype: int64"
      ]
     },
     "execution_count": 23,
     "metadata": {},
     "output_type": "execute_result"
    }
   ],
   "source": [
    "# cast the typpe for the short_county_code as integer\n",
    "house_pricing['short_county_code'] = house_pricing['short_county_code'].astype(int)\n",
    "house_pricing.isna().sum()\n"
   ]
  },
  {
   "cell_type": "code",
   "execution_count": 24,
   "metadata": {},
   "outputs": [
    {
     "name": "stdout",
     "output_type": "stream",
     "text": [
      "3074\n"
     ]
    },
    {
     "data": {
      "text/plain": [
       "State                0\n",
       "FIPS                 0\n",
       "in_return            0\n",
       "in_individuals       0\n",
       "in_gross_income      0\n",
       "out_return           0\n",
       "out_individuals      0\n",
       "out_gross_income     0\n",
       "short_county_code    0\n",
       "house_index          0\n",
       "housing_avg_value    0\n",
       "dtype: int64"
      ]
     },
     "execution_count": 24,
     "metadata": {},
     "output_type": "execute_result"
    }
   ],
   "source": [
    "house_pricing_cleaned = house_pricing[['State','short_county_code', 'house_index', 'housing_avg_value']]\n",
    "full_dataset = merged_migration.merge(house_pricing_cleaned, left_on=['State', 'FIPS'], right_on=['State', 'short_county_code'], how='inner')\n",
    "print(len(full_dataset))\n",
    "full_dataset.isna().sum()"
   ]
  },
  {
   "cell_type": "markdown",
   "metadata": {},
   "source": [
    "## Health datda"
   ]
  },
  {
   "cell_type": "markdown",
   "metadata": {},
   "source": [
    "``` markdown\n",
    "- clean up the FIPS\n",
    "- Check for null values\n",
    "-  grroup by state and FIPS\n",
    "- Create a function that maps the State to the right abbreviation for merge\n",
    "- get rid of usefell columns\n",
    "- merge\n",
    "\n"
   ]
  },
  {
   "cell_type": "code",
   "execution_count": 25,
   "metadata": {},
   "outputs": [
    {
     "name": "stderr",
     "output_type": "stream",
     "text": [
      "/var/folders/0j/1cd8408x3wq9bz5tls9dndqw0000gq/T/ipykernel_15821/3087391456.py:1: DtypeWarning: Columns (36,74,88,89,113,114) have mixed types. Specify dtype option on import or set low_memory=False.\n",
      "  health = pd.read_csv('/Users/judithyemeli/Documents/CSE_6242/Project/MVR/Network_graph_analysis/Health_Data.csv')\n"
     ]
    }
   ],
   "source": [
    "health = pd.read_csv('/Users/judithyemeli/Documents/CSE_6242/Project/MVR/Network_graph_analysis/Health_Data.csv')"
   ]
  },
  {
   "cell_type": "code",
   "execution_count": 26,
   "metadata": {},
   "outputs": [
    {
     "data": {
      "text/html": [
       "<div>\n",
       "<style scoped>\n",
       "    .dataframe tbody tr th:only-of-type {\n",
       "        vertical-align: middle;\n",
       "    }\n",
       "\n",
       "    .dataframe tbody tr th {\n",
       "        vertical-align: top;\n",
       "    }\n",
       "\n",
       "    .dataframe thead th {\n",
       "        text-align: right;\n",
       "    }\n",
       "</style>\n",
       "<table border=\"1\" class=\"dataframe\">\n",
       "  <thead>\n",
       "    <tr style=\"text-align: right;\">\n",
       "      <th></th>\n",
       "      <th>Year</th>\n",
       "      <th>FIPS</th>\n",
       "      <th>State</th>\n",
       "      <th>County</th>\n",
       "      <th>Premature Deaths</th>\n",
       "      <th>Premature Death Years of Potential Life Lost Rate</th>\n",
       "      <th>% Fair/Poor</th>\n",
       "      <th>Physically Unhealthy Days</th>\n",
       "      <th>Mentally Unhealthy Days</th>\n",
       "      <th>Unreliable Ind LowBirth</th>\n",
       "      <th>...</th>\n",
       "      <th>% Native Hawaiian/Other Pacific Islander</th>\n",
       "      <th># Hispanic</th>\n",
       "      <th>% Hispanic</th>\n",
       "      <th># Non-Hispanic White</th>\n",
       "      <th>% Non-Hispanic White</th>\n",
       "      <th># Not Proficient in English</th>\n",
       "      <th>% Not Proficient in English</th>\n",
       "      <th>% Female</th>\n",
       "      <th># Rural</th>\n",
       "      <th>% Rural</th>\n",
       "    </tr>\n",
       "  </thead>\n",
       "  <tbody>\n",
       "    <tr>\n",
       "      <th>0</th>\n",
       "      <td>2017</td>\n",
       "      <td>1001</td>\n",
       "      <td>Alabama</td>\n",
       "      <td>Autauga</td>\n",
       "      <td>830.0</td>\n",
       "      <td>9158.0</td>\n",
       "      <td>18</td>\n",
       "      <td>4.2</td>\n",
       "      <td>4.2</td>\n",
       "      <td>NaN</td>\n",
       "      <td>...</td>\n",
       "      <td>2.8</td>\n",
       "      <td>41459.0</td>\n",
       "      <td>74.9</td>\n",
       "      <td>338.0</td>\n",
       "      <td>0.7</td>\n",
       "      <td>51.5</td>\n",
       "      <td>22921.0</td>\n",
       "      <td>42.0</td>\n",
       "      <td>22921.0</td>\n",
       "      <td>42.0</td>\n",
       "    </tr>\n",
       "    <tr>\n",
       "      <th>1</th>\n",
       "      <td>2017</td>\n",
       "      <td>1003</td>\n",
       "      <td>Alabama</td>\n",
       "      <td>Baldwin</td>\n",
       "      <td>2573.0</td>\n",
       "      <td>7394.0</td>\n",
       "      <td>16</td>\n",
       "      <td>3.7</td>\n",
       "      <td>4.0</td>\n",
       "      <td>NaN</td>\n",
       "      <td>...</td>\n",
       "      <td>4.5</td>\n",
       "      <td>168996.0</td>\n",
       "      <td>83.0</td>\n",
       "      <td>2159.0</td>\n",
       "      <td>1.2</td>\n",
       "      <td>51.3</td>\n",
       "      <td>77060.0</td>\n",
       "      <td>42.3</td>\n",
       "      <td>77060.0</td>\n",
       "      <td>42.3</td>\n",
       "    </tr>\n",
       "    <tr>\n",
       "      <th>2</th>\n",
       "      <td>2017</td>\n",
       "      <td>1005</td>\n",
       "      <td>Alabama</td>\n",
       "      <td>Barbour</td>\n",
       "      <td>413.0</td>\n",
       "      <td>8573.0</td>\n",
       "      <td>25</td>\n",
       "      <td>4.8</td>\n",
       "      <td>4.8</td>\n",
       "      <td>NaN</td>\n",
       "      <td>...</td>\n",
       "      <td>4.4</td>\n",
       "      <td>12340.0</td>\n",
       "      <td>46.6</td>\n",
       "      <td>447.0</td>\n",
       "      <td>1.8</td>\n",
       "      <td>46.6</td>\n",
       "      <td>18613.0</td>\n",
       "      <td>67.8</td>\n",
       "      <td>18613.0</td>\n",
       "      <td>67.8</td>\n",
       "    </tr>\n",
       "  </tbody>\n",
       "</table>\n",
       "<p>3 rows × 142 columns</p>\n",
       "</div>"
      ],
      "text/plain": [
       "   Year  FIPS    State   County  Premature Deaths  \\\n",
       "0  2017  1001  Alabama  Autauga             830.0   \n",
       "1  2017  1003  Alabama  Baldwin            2573.0   \n",
       "2  2017  1005  Alabama  Barbour             413.0   \n",
       "\n",
       "   Premature Death Years of Potential Life Lost Rate  % Fair/Poor  \\\n",
       "0                                             9158.0           18   \n",
       "1                                             7394.0           16   \n",
       "2                                             8573.0           25   \n",
       "\n",
       "   Physically Unhealthy Days  Mentally Unhealthy Days Unreliable Ind LowBirth  \\\n",
       "0                        4.2                      4.2                     NaN   \n",
       "1                        3.7                      4.0                     NaN   \n",
       "2                        4.8                      4.8                     NaN   \n",
       "\n",
       "   ...  % Native Hawaiian/Other Pacific Islander  # Hispanic  % Hispanic  \\\n",
       "0  ...                                       2.8     41459.0        74.9   \n",
       "1  ...                                       4.5    168996.0        83.0   \n",
       "2  ...                                       4.4     12340.0        46.6   \n",
       "\n",
       "   # Non-Hispanic White  % Non-Hispanic White  # Not Proficient in English  \\\n",
       "0                 338.0                   0.7                         51.5   \n",
       "1                2159.0                   1.2                         51.3   \n",
       "2                 447.0                   1.8                         46.6   \n",
       "\n",
       "   % Not Proficient in English  % Female  # Rural  % Rural  \n",
       "0                      22921.0      42.0  22921.0     42.0  \n",
       "1                      77060.0      42.3  77060.0     42.3  \n",
       "2                      18613.0      67.8  18613.0     67.8  \n",
       "\n",
       "[3 rows x 142 columns]"
      ]
     },
     "execution_count": 26,
     "metadata": {},
     "output_type": "execute_result"
    }
   ],
   "source": [
    "health.head(3)"
   ]
  },
  {
   "cell_type": "code",
   "execution_count": 27,
   "metadata": {},
   "outputs": [],
   "source": [
    "health['short_county_code'] = health['FIPS'].apply(county_code_reformat)    "
   ]
  },
  {
   "cell_type": "code",
   "execution_count": 28,
   "metadata": {},
   "outputs": [],
   "source": [
    "state_to_abbreviation = {\n",
    "    \"Alabama\": \"AL\", \"Alaska\": \"AK\", \"Arizona\": \"AZ\", \"Arkansas\": \"AR\", \"California\": \"CA\", \n",
    "    \"Colorado\": \"CO\", \"Connecticut\": \"CT\", \"Delaware\": \"DE\", \"Florida\": \"FL\", \"Georgia\": \"GA\",\n",
    "    \"Hawaii\": \"HI\", \"Idaho\": \"ID\", \"Illinois\": \"IL\", \"Indiana\": \"IN\", \"Iowa\": \"IA\", \"Kansas\": \"KS\",\n",
    "    \"Kentucky\": \"KY\", \"Louisiana\": \"LA\", \"Maine\": \"ME\", \"Maryland\": \"MD\", \"Massachusetts\": \"MA\",\n",
    "    \"Michigan\": \"MI\", \"Minnesota\": \"MN\", \"Mississippi\": \"MS\", \"Missouri\": \"MO\", \"Montana\": \"MT\",\n",
    "    \"Nebraska\": \"NE\", \"Nevada\": \"NV\", \"New Hampshire\": \"NH\", \"New Jersey\": \"NJ\", \"New Mexico\": \"NM\",\n",
    "    \"New York\": \"NY\", \"North Carolina\": \"NC\", \"North Dakota\": \"ND\", \"Ohio\": \"OH\", \"Oklahoma\": \"OK\",\n",
    "    \"Oregon\": \"OR\", \"Pennsylvania\": \"PA\", \"Rhode Island\": \"RI\", \"South Carolina\": \"SC\",\n",
    "    \"South Dakota\": \"SD\", \"Tennessee\": \"TN\", \"Texas\": \"TX\", \"Utah\": \"UT\", \"Vermont\": \"VT\",\n",
    "    \"Virginia\": \"VA\", \"Washington\": \"WA\", \"West Virginia\": \"WV\", \"Wisconsin\": \"WI\", \"Wyoming\": \"WY\"\n",
    "}"
   ]
  },
  {
   "cell_type": "code",
   "execution_count": 29,
   "metadata": {},
   "outputs": [
    {
     "data": {
      "text/plain": [
       "array(['AL', 'AK', 'AZ', 'AR', 'CA', 'CO', 'CT', 'DE', nan, 'FL', 'GA',\n",
       "       'HI', 'ID', 'IL', 'IN', 'IA', 'KS', 'KY', 'LA', 'ME', 'MD', 'MA',\n",
       "       'MI', 'MN', 'MS', 'MO', 'MT', 'NE', 'NV', 'NH', 'NJ', 'NM', 'NY',\n",
       "       'NC', 'ND', 'OH', 'OK', 'OR', 'PA', 'RI', 'SC', 'SD', 'TN', 'TX',\n",
       "       'UT', 'VT', 'VA', 'WA', 'WV', 'WI', 'WY'], dtype=object)"
      ]
     },
     "execution_count": 29,
     "metadata": {},
     "output_type": "execute_result"
    }
   ],
   "source": [
    "health['State_short'] = health['State'].map(state_to_abbreviation)\n",
    "health['State_short'].unique()"
   ]
  },
  {
   "cell_type": "code",
   "execution_count": 30,
   "metadata": {},
   "outputs": [],
   "source": [
    "health.drop(columns=['State', 'County', 'FIPS'], inplace=True)\n",
    "health.rename(columns={'State_short': 'State', 'short_county_code':'FIPS'}, inplace=True)"
   ]
  },
  {
   "cell_type": "code",
   "execution_count": 31,
   "metadata": {},
   "outputs": [],
   "source": [
    "threshold = len(health) * 0.1  # 10% threshold\n",
    "health.dropna(thresh=threshold, axis=1, inplace=True)\n",
    "\n",
    "# fill the remaining missing values with the mean of the column\n",
    "attribute_cols = []\n",
    "for col in health.columns:\n",
    "    if col not in ['State', 'FIPS', 'Year'] and health[col].dtype != 'object':\n",
    "        attribute_cols.append(col)"
   ]
  },
  {
   "cell_type": "code",
   "execution_count": 32,
   "metadata": {},
   "outputs": [
    {
     "data": {
      "text/plain": [
       "3142"
      ]
     },
     "execution_count": 32,
     "metadata": {},
     "output_type": "execute_result"
    }
   ],
   "source": [
    "health_grouped = health.groupby(by=['State', 'FIPS'])[attribute_cols].mean().reset_index()\n",
    "len(health_grouped)"
   ]
  },
  {
   "cell_type": "code",
   "execution_count": 33,
   "metadata": {},
   "outputs": [
    {
     "data": {
      "text/html": [
       "<div>\n",
       "<style scoped>\n",
       "    .dataframe tbody tr th:only-of-type {\n",
       "        vertical-align: middle;\n",
       "    }\n",
       "\n",
       "    .dataframe tbody tr th {\n",
       "        vertical-align: top;\n",
       "    }\n",
       "\n",
       "    .dataframe thead th {\n",
       "        text-align: right;\n",
       "    }\n",
       "</style>\n",
       "<table border=\"1\" class=\"dataframe\">\n",
       "  <thead>\n",
       "    <tr style=\"text-align: right;\">\n",
       "      <th></th>\n",
       "      <th>State</th>\n",
       "      <th>FIPS</th>\n",
       "      <th>Premature Deaths</th>\n",
       "      <th>Premature Death Years of Potential Life Lost Rate</th>\n",
       "      <th>% Fair/Poor</th>\n",
       "      <th>Physically Unhealthy Days</th>\n",
       "      <th>Mentally Unhealthy Days</th>\n",
       "      <th>Low birthweight rate</th>\n",
       "      <th>% Smokers</th>\n",
       "      <th>% Obese</th>\n",
       "      <th>...</th>\n",
       "      <th>% Native Hawaiian/Other Pacific Islander</th>\n",
       "      <th># Hispanic</th>\n",
       "      <th>% Hispanic</th>\n",
       "      <th># Non-Hispanic White</th>\n",
       "      <th>% Non-Hispanic White</th>\n",
       "      <th># Not Proficient in English</th>\n",
       "      <th>% Not Proficient in English</th>\n",
       "      <th>% Female</th>\n",
       "      <th># Rural</th>\n",
       "      <th>% Rural</th>\n",
       "    </tr>\n",
       "  </thead>\n",
       "  <tbody>\n",
       "    <tr>\n",
       "      <th>0</th>\n",
       "      <td>AK</td>\n",
       "      <td>13</td>\n",
       "      <td>NaN</td>\n",
       "      <td>NaN</td>\n",
       "      <td>17.6</td>\n",
       "      <td>3.62</td>\n",
       "      <td>2.94</td>\n",
       "      <td>NaN</td>\n",
       "      <td>18.2</td>\n",
       "      <td>42.2</td>\n",
       "      <td>...</td>\n",
       "      <td>4.425</td>\n",
       "      <td>455.50</td>\n",
       "      <td>13.450</td>\n",
       "      <td>345.75</td>\n",
       "      <td>10.400</td>\n",
       "      <td>299.200</td>\n",
       "      <td>794.175</td>\n",
       "      <td>49.175</td>\n",
       "      <td>21640.333333</td>\n",
       "      <td>82.800000</td>\n",
       "    </tr>\n",
       "    <tr>\n",
       "      <th>1</th>\n",
       "      <td>AK</td>\n",
       "      <td>16</td>\n",
       "      <td>NaN</td>\n",
       "      <td>NaN</td>\n",
       "      <td>15.6</td>\n",
       "      <td>3.22</td>\n",
       "      <td>2.78</td>\n",
       "      <td>7.0</td>\n",
       "      <td>16.2</td>\n",
       "      <td>41.2</td>\n",
       "      <td>...</td>\n",
       "      <td>5.450</td>\n",
       "      <td>958.50</td>\n",
       "      <td>16.800</td>\n",
       "      <td>1096.25</td>\n",
       "      <td>19.275</td>\n",
       "      <td>320.675</td>\n",
       "      <td>1395.900</td>\n",
       "      <td>50.225</td>\n",
       "      <td>34955.666667</td>\n",
       "      <td>50.333333</td>\n",
       "    </tr>\n",
       "    <tr>\n",
       "      <th>2</th>\n",
       "      <td>AK</td>\n",
       "      <td>20</td>\n",
       "      <td>3113.666667</td>\n",
       "      <td>7558.6</td>\n",
       "      <td>13.6</td>\n",
       "      <td>3.48</td>\n",
       "      <td>3.32</td>\n",
       "      <td>6.0</td>\n",
       "      <td>15.4</td>\n",
       "      <td>29.2</td>\n",
       "      <td>...</td>\n",
       "      <td>4.225</td>\n",
       "      <td>64306.75</td>\n",
       "      <td>21.625</td>\n",
       "      <td>129787.00</td>\n",
       "      <td>44.050</td>\n",
       "      <td>5005.650</td>\n",
       "      <td>3005.575</td>\n",
       "      <td>37.800</td>\n",
       "      <td>37109.000000</td>\n",
       "      <td>50.766667</td>\n",
       "    </tr>\n",
       "  </tbody>\n",
       "</table>\n",
       "<p>3 rows × 128 columns</p>\n",
       "</div>"
      ],
      "text/plain": [
       "  State  FIPS  Premature Deaths  \\\n",
       "0    AK    13               NaN   \n",
       "1    AK    16               NaN   \n",
       "2    AK    20       3113.666667   \n",
       "\n",
       "   Premature Death Years of Potential Life Lost Rate  % Fair/Poor  \\\n",
       "0                                                NaN         17.6   \n",
       "1                                                NaN         15.6   \n",
       "2                                             7558.6         13.6   \n",
       "\n",
       "   Physically Unhealthy Days  Mentally Unhealthy Days  Low birthweight rate  \\\n",
       "0                       3.62                     2.94                   NaN   \n",
       "1                       3.22                     2.78                   7.0   \n",
       "2                       3.48                     3.32                   6.0   \n",
       "\n",
       "   % Smokers  % Obese  ...  % Native Hawaiian/Other Pacific Islander  \\\n",
       "0       18.2     42.2  ...                                     4.425   \n",
       "1       16.2     41.2  ...                                     5.450   \n",
       "2       15.4     29.2  ...                                     4.225   \n",
       "\n",
       "   # Hispanic  % Hispanic  # Non-Hispanic White  % Non-Hispanic White  \\\n",
       "0      455.50      13.450                345.75                10.400   \n",
       "1      958.50      16.800               1096.25                19.275   \n",
       "2    64306.75      21.625             129787.00                44.050   \n",
       "\n",
       "   # Not Proficient in English  % Not Proficient in English  % Female  \\\n",
       "0                      299.200                      794.175    49.175   \n",
       "1                      320.675                     1395.900    50.225   \n",
       "2                     5005.650                     3005.575    37.800   \n",
       "\n",
       "        # Rural    % Rural  \n",
       "0  21640.333333  82.800000  \n",
       "1  34955.666667  50.333333  \n",
       "2  37109.000000  50.766667  \n",
       "\n",
       "[3 rows x 128 columns]"
      ]
     },
     "execution_count": 33,
     "metadata": {},
     "output_type": "execute_result"
    }
   ],
   "source": [
    "health_grouped.head(3)"
   ]
  },
  {
   "cell_type": "code",
   "execution_count": 34,
   "metadata": {},
   "outputs": [
    {
     "data": {
      "text/plain": [
       "State                                                  0\n",
       "FIPS                                                   0\n",
       "Premature Deaths                                     171\n",
       "Premature Death Years of Potential Life Lost Rate    162\n",
       "% Fair/Poor                                            0\n",
       "                                                    ... \n",
       "# Not Proficient in English                            0\n",
       "% Not Proficient in English                            0\n",
       "% Female                                               0\n",
       "# Rural                                                6\n",
       "% Rural                                                6\n",
       "Length: 128, dtype: int64"
      ]
     },
     "execution_count": 34,
     "metadata": {},
     "output_type": "execute_result"
    }
   ],
   "source": [
    "health_grouped.isna().sum()"
   ]
  },
  {
   "cell_type": "code",
   "execution_count": 35,
   "metadata": {},
   "outputs": [
    {
     "data": {
      "text/plain": [
       "3073"
      ]
     },
     "execution_count": 35,
     "metadata": {},
     "output_type": "execute_result"
    }
   ],
   "source": [
    "full_dataset = full_dataset.merge(health_grouped, left_on=['State', 'FIPS'], right_on=['State', 'FIPS'], how='inner')\n",
    "len(full_dataset)"
   ]
  },
  {
   "cell_type": "code",
   "execution_count": 37,
   "metadata": {},
   "outputs": [
    {
     "data": {
      "text/plain": [
       "(3073, 137)"
      ]
     },
     "execution_count": 37,
     "metadata": {},
     "output_type": "execute_result"
    }
   ],
   "source": [
    "full_dataset.shape"
   ]
  },
  {
   "cell_type": "code",
   "execution_count": 39,
   "metadata": {},
   "outputs": [],
   "source": [
    "full_dataset.to_csv('full_dataset.csv', index=False)"
   ]
  }
 ],
 "metadata": {
  "kernelspec": {
   "display_name": "base",
   "language": "python",
   "name": "python3"
  },
  "language_info": {
   "codemirror_mode": {
    "name": "ipython",
    "version": 3
   },
   "file_extension": ".py",
   "mimetype": "text/x-python",
   "name": "python",
   "nbconvert_exporter": "python",
   "pygments_lexer": "ipython3",
   "version": "3.12.4"
  }
 },
 "nbformat": 4,
 "nbformat_minor": 2
}
